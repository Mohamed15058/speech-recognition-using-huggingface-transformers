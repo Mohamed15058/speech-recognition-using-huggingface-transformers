{
  "nbformat": 4,
  "nbformat_minor": 0,
  "metadata": {
    "colab": {
      "provenance": [],
      "include_colab_link": true
    },
    "kernelspec": {
      "name": "python3",
      "display_name": "Python 3"
    },
    "language_info": {
      "name": "python"
    },
    "widgets": {
      "application/vnd.jupyter.widget-state+json": {
        "c2f43c12fd6d40b796b63b2dcaaa6737": {
          "model_module": "@jupyter-widgets/controls",
          "model_name": "HBoxModel",
          "model_module_version": "1.5.0",
          "state": {
            "_dom_classes": [],
            "_model_module": "@jupyter-widgets/controls",
            "_model_module_version": "1.5.0",
            "_model_name": "HBoxModel",
            "_view_count": null,
            "_view_module": "@jupyter-widgets/controls",
            "_view_module_version": "1.5.0",
            "_view_name": "HBoxView",
            "box_style": "",
            "children": [
              "IPY_MODEL_05e3de52442241b2be28826db06feead",
              "IPY_MODEL_c07eb03378b242908e3a17867fd1f28b",
              "IPY_MODEL_f94749c1d6944f0793d5bf4824de9ad6"
            ],
            "layout": "IPY_MODEL_ae78872dc2ab46fd8f941795aaf76e30"
          }
        },
        "05e3de52442241b2be28826db06feead": {
          "model_module": "@jupyter-widgets/controls",
          "model_name": "HTMLModel",
          "model_module_version": "1.5.0",
          "state": {
            "_dom_classes": [],
            "_model_module": "@jupyter-widgets/controls",
            "_model_module_version": "1.5.0",
            "_model_name": "HTMLModel",
            "_view_count": null,
            "_view_module": "@jupyter-widgets/controls",
            "_view_module_version": "1.5.0",
            "_view_name": "HTMLView",
            "description": "",
            "description_tooltip": null,
            "layout": "IPY_MODEL_367abaa6a3c64616acefb2f8b2dce2df",
            "placeholder": "​",
            "style": "IPY_MODEL_ceba9db6ab684ba08c0470584aa6e111",
            "value": "preprocessor_config.json: 100%"
          }
        },
        "c07eb03378b242908e3a17867fd1f28b": {
          "model_module": "@jupyter-widgets/controls",
          "model_name": "FloatProgressModel",
          "model_module_version": "1.5.0",
          "state": {
            "_dom_classes": [],
            "_model_module": "@jupyter-widgets/controls",
            "_model_module_version": "1.5.0",
            "_model_name": "FloatProgressModel",
            "_view_count": null,
            "_view_module": "@jupyter-widgets/controls",
            "_view_module_version": "1.5.0",
            "_view_name": "ProgressView",
            "bar_style": "success",
            "description": "",
            "description_tooltip": null,
            "layout": "IPY_MODEL_3435ad9b40a34c06adb1b47e49b95816",
            "max": 262,
            "min": 0,
            "orientation": "horizontal",
            "style": "IPY_MODEL_de456514bd634e6db3d593137d9f4171",
            "value": 262
          }
        },
        "f94749c1d6944f0793d5bf4824de9ad6": {
          "model_module": "@jupyter-widgets/controls",
          "model_name": "HTMLModel",
          "model_module_version": "1.5.0",
          "state": {
            "_dom_classes": [],
            "_model_module": "@jupyter-widgets/controls",
            "_model_module_version": "1.5.0",
            "_model_name": "HTMLModel",
            "_view_count": null,
            "_view_module": "@jupyter-widgets/controls",
            "_view_module_version": "1.5.0",
            "_view_name": "HTMLView",
            "description": "",
            "description_tooltip": null,
            "layout": "IPY_MODEL_4f301d6550af44d7abcb38d3204592c6",
            "placeholder": "​",
            "style": "IPY_MODEL_357c519bcb0d4f1691d9b0c604973673",
            "value": " 262/262 [00:00&lt;00:00, 8.49kB/s]"
          }
        },
        "ae78872dc2ab46fd8f941795aaf76e30": {
          "model_module": "@jupyter-widgets/base",
          "model_name": "LayoutModel",
          "model_module_version": "1.2.0",
          "state": {
            "_model_module": "@jupyter-widgets/base",
            "_model_module_version": "1.2.0",
            "_model_name": "LayoutModel",
            "_view_count": null,
            "_view_module": "@jupyter-widgets/base",
            "_view_module_version": "1.2.0",
            "_view_name": "LayoutView",
            "align_content": null,
            "align_items": null,
            "align_self": null,
            "border": null,
            "bottom": null,
            "display": null,
            "flex": null,
            "flex_flow": null,
            "grid_area": null,
            "grid_auto_columns": null,
            "grid_auto_flow": null,
            "grid_auto_rows": null,
            "grid_column": null,
            "grid_gap": null,
            "grid_row": null,
            "grid_template_areas": null,
            "grid_template_columns": null,
            "grid_template_rows": null,
            "height": null,
            "justify_content": null,
            "justify_items": null,
            "left": null,
            "margin": null,
            "max_height": null,
            "max_width": null,
            "min_height": null,
            "min_width": null,
            "object_fit": null,
            "object_position": null,
            "order": null,
            "overflow": null,
            "overflow_x": null,
            "overflow_y": null,
            "padding": null,
            "right": null,
            "top": null,
            "visibility": null,
            "width": null
          }
        },
        "367abaa6a3c64616acefb2f8b2dce2df": {
          "model_module": "@jupyter-widgets/base",
          "model_name": "LayoutModel",
          "model_module_version": "1.2.0",
          "state": {
            "_model_module": "@jupyter-widgets/base",
            "_model_module_version": "1.2.0",
            "_model_name": "LayoutModel",
            "_view_count": null,
            "_view_module": "@jupyter-widgets/base",
            "_view_module_version": "1.2.0",
            "_view_name": "LayoutView",
            "align_content": null,
            "align_items": null,
            "align_self": null,
            "border": null,
            "bottom": null,
            "display": null,
            "flex": null,
            "flex_flow": null,
            "grid_area": null,
            "grid_auto_columns": null,
            "grid_auto_flow": null,
            "grid_auto_rows": null,
            "grid_column": null,
            "grid_gap": null,
            "grid_row": null,
            "grid_template_areas": null,
            "grid_template_columns": null,
            "grid_template_rows": null,
            "height": null,
            "justify_content": null,
            "justify_items": null,
            "left": null,
            "margin": null,
            "max_height": null,
            "max_width": null,
            "min_height": null,
            "min_width": null,
            "object_fit": null,
            "object_position": null,
            "order": null,
            "overflow": null,
            "overflow_x": null,
            "overflow_y": null,
            "padding": null,
            "right": null,
            "top": null,
            "visibility": null,
            "width": null
          }
        },
        "ceba9db6ab684ba08c0470584aa6e111": {
          "model_module": "@jupyter-widgets/controls",
          "model_name": "DescriptionStyleModel",
          "model_module_version": "1.5.0",
          "state": {
            "_model_module": "@jupyter-widgets/controls",
            "_model_module_version": "1.5.0",
            "_model_name": "DescriptionStyleModel",
            "_view_count": null,
            "_view_module": "@jupyter-widgets/base",
            "_view_module_version": "1.2.0",
            "_view_name": "StyleView",
            "description_width": ""
          }
        },
        "3435ad9b40a34c06adb1b47e49b95816": {
          "model_module": "@jupyter-widgets/base",
          "model_name": "LayoutModel",
          "model_module_version": "1.2.0",
          "state": {
            "_model_module": "@jupyter-widgets/base",
            "_model_module_version": "1.2.0",
            "_model_name": "LayoutModel",
            "_view_count": null,
            "_view_module": "@jupyter-widgets/base",
            "_view_module_version": "1.2.0",
            "_view_name": "LayoutView",
            "align_content": null,
            "align_items": null,
            "align_self": null,
            "border": null,
            "bottom": null,
            "display": null,
            "flex": null,
            "flex_flow": null,
            "grid_area": null,
            "grid_auto_columns": null,
            "grid_auto_flow": null,
            "grid_auto_rows": null,
            "grid_column": null,
            "grid_gap": null,
            "grid_row": null,
            "grid_template_areas": null,
            "grid_template_columns": null,
            "grid_template_rows": null,
            "height": null,
            "justify_content": null,
            "justify_items": null,
            "left": null,
            "margin": null,
            "max_height": null,
            "max_width": null,
            "min_height": null,
            "min_width": null,
            "object_fit": null,
            "object_position": null,
            "order": null,
            "overflow": null,
            "overflow_x": null,
            "overflow_y": null,
            "padding": null,
            "right": null,
            "top": null,
            "visibility": null,
            "width": null
          }
        },
        "de456514bd634e6db3d593137d9f4171": {
          "model_module": "@jupyter-widgets/controls",
          "model_name": "ProgressStyleModel",
          "model_module_version": "1.5.0",
          "state": {
            "_model_module": "@jupyter-widgets/controls",
            "_model_module_version": "1.5.0",
            "_model_name": "ProgressStyleModel",
            "_view_count": null,
            "_view_module": "@jupyter-widgets/base",
            "_view_module_version": "1.2.0",
            "_view_name": "StyleView",
            "bar_color": null,
            "description_width": ""
          }
        },
        "4f301d6550af44d7abcb38d3204592c6": {
          "model_module": "@jupyter-widgets/base",
          "model_name": "LayoutModel",
          "model_module_version": "1.2.0",
          "state": {
            "_model_module": "@jupyter-widgets/base",
            "_model_module_version": "1.2.0",
            "_model_name": "LayoutModel",
            "_view_count": null,
            "_view_module": "@jupyter-widgets/base",
            "_view_module_version": "1.2.0",
            "_view_name": "LayoutView",
            "align_content": null,
            "align_items": null,
            "align_self": null,
            "border": null,
            "bottom": null,
            "display": null,
            "flex": null,
            "flex_flow": null,
            "grid_area": null,
            "grid_auto_columns": null,
            "grid_auto_flow": null,
            "grid_auto_rows": null,
            "grid_column": null,
            "grid_gap": null,
            "grid_row": null,
            "grid_template_areas": null,
            "grid_template_columns": null,
            "grid_template_rows": null,
            "height": null,
            "justify_content": null,
            "justify_items": null,
            "left": null,
            "margin": null,
            "max_height": null,
            "max_width": null,
            "min_height": null,
            "min_width": null,
            "object_fit": null,
            "object_position": null,
            "order": null,
            "overflow": null,
            "overflow_x": null,
            "overflow_y": null,
            "padding": null,
            "right": null,
            "top": null,
            "visibility": null,
            "width": null
          }
        },
        "357c519bcb0d4f1691d9b0c604973673": {
          "model_module": "@jupyter-widgets/controls",
          "model_name": "DescriptionStyleModel",
          "model_module_version": "1.5.0",
          "state": {
            "_model_module": "@jupyter-widgets/controls",
            "_model_module_version": "1.5.0",
            "_model_name": "DescriptionStyleModel",
            "_view_count": null,
            "_view_module": "@jupyter-widgets/base",
            "_view_module_version": "1.2.0",
            "_view_name": "StyleView",
            "description_width": ""
          }
        },
        "e034855ccca243b988e553bde7f003c6": {
          "model_module": "@jupyter-widgets/controls",
          "model_name": "HBoxModel",
          "model_module_version": "1.5.0",
          "state": {
            "_dom_classes": [],
            "_model_module": "@jupyter-widgets/controls",
            "_model_module_version": "1.5.0",
            "_model_name": "HBoxModel",
            "_view_count": null,
            "_view_module": "@jupyter-widgets/controls",
            "_view_module_version": "1.5.0",
            "_view_name": "HBoxView",
            "box_style": "",
            "children": [
              "IPY_MODEL_e15d547b5bef4726912a9d149671c7f4",
              "IPY_MODEL_6c87851690714da38f153ab3edc8badb",
              "IPY_MODEL_8b17d2fc5462481aa78652a651ee07b3"
            ],
            "layout": "IPY_MODEL_21b97be21c2d46f7bc971672fe624510"
          }
        },
        "e15d547b5bef4726912a9d149671c7f4": {
          "model_module": "@jupyter-widgets/controls",
          "model_name": "HTMLModel",
          "model_module_version": "1.5.0",
          "state": {
            "_dom_classes": [],
            "_model_module": "@jupyter-widgets/controls",
            "_model_module_version": "1.5.0",
            "_model_name": "HTMLModel",
            "_view_count": null,
            "_view_module": "@jupyter-widgets/controls",
            "_view_module_version": "1.5.0",
            "_view_name": "HTMLView",
            "description": "",
            "description_tooltip": null,
            "layout": "IPY_MODEL_e69179853bf4435db1869462c9c31366",
            "placeholder": "​",
            "style": "IPY_MODEL_c37895a79f6b4597ac45a9e9c6f53811",
            "value": "config.json: 100%"
          }
        },
        "6c87851690714da38f153ab3edc8badb": {
          "model_module": "@jupyter-widgets/controls",
          "model_name": "FloatProgressModel",
          "model_module_version": "1.5.0",
          "state": {
            "_dom_classes": [],
            "_model_module": "@jupyter-widgets/controls",
            "_model_module_version": "1.5.0",
            "_model_name": "FloatProgressModel",
            "_view_count": null,
            "_view_module": "@jupyter-widgets/controls",
            "_view_module_version": "1.5.0",
            "_view_name": "ProgressView",
            "bar_style": "success",
            "description": "",
            "description_tooltip": null,
            "layout": "IPY_MODEL_52e7d457e03e4f39bd9a42682ac115b7",
            "max": 1782,
            "min": 0,
            "orientation": "horizontal",
            "style": "IPY_MODEL_22d4a15587854f98a2b0d576904fb595",
            "value": 1782
          }
        },
        "8b17d2fc5462481aa78652a651ee07b3": {
          "model_module": "@jupyter-widgets/controls",
          "model_name": "HTMLModel",
          "model_module_version": "1.5.0",
          "state": {
            "_dom_classes": [],
            "_model_module": "@jupyter-widgets/controls",
            "_model_module_version": "1.5.0",
            "_model_name": "HTMLModel",
            "_view_count": null,
            "_view_module": "@jupyter-widgets/controls",
            "_view_module_version": "1.5.0",
            "_view_name": "HTMLView",
            "description": "",
            "description_tooltip": null,
            "layout": "IPY_MODEL_8fc482c6baa44ff98f0061619a36e2d2",
            "placeholder": "​",
            "style": "IPY_MODEL_0896c8c35d2c4ea3b98c577ee4bf3349",
            "value": " 1.78k/1.78k [00:00&lt;00:00, 59.8kB/s]"
          }
        },
        "21b97be21c2d46f7bc971672fe624510": {
          "model_module": "@jupyter-widgets/base",
          "model_name": "LayoutModel",
          "model_module_version": "1.2.0",
          "state": {
            "_model_module": "@jupyter-widgets/base",
            "_model_module_version": "1.2.0",
            "_model_name": "LayoutModel",
            "_view_count": null,
            "_view_module": "@jupyter-widgets/base",
            "_view_module_version": "1.2.0",
            "_view_name": "LayoutView",
            "align_content": null,
            "align_items": null,
            "align_self": null,
            "border": null,
            "bottom": null,
            "display": null,
            "flex": null,
            "flex_flow": null,
            "grid_area": null,
            "grid_auto_columns": null,
            "grid_auto_flow": null,
            "grid_auto_rows": null,
            "grid_column": null,
            "grid_gap": null,
            "grid_row": null,
            "grid_template_areas": null,
            "grid_template_columns": null,
            "grid_template_rows": null,
            "height": null,
            "justify_content": null,
            "justify_items": null,
            "left": null,
            "margin": null,
            "max_height": null,
            "max_width": null,
            "min_height": null,
            "min_width": null,
            "object_fit": null,
            "object_position": null,
            "order": null,
            "overflow": null,
            "overflow_x": null,
            "overflow_y": null,
            "padding": null,
            "right": null,
            "top": null,
            "visibility": null,
            "width": null
          }
        },
        "e69179853bf4435db1869462c9c31366": {
          "model_module": "@jupyter-widgets/base",
          "model_name": "LayoutModel",
          "model_module_version": "1.2.0",
          "state": {
            "_model_module": "@jupyter-widgets/base",
            "_model_module_version": "1.2.0",
            "_model_name": "LayoutModel",
            "_view_count": null,
            "_view_module": "@jupyter-widgets/base",
            "_view_module_version": "1.2.0",
            "_view_name": "LayoutView",
            "align_content": null,
            "align_items": null,
            "align_self": null,
            "border": null,
            "bottom": null,
            "display": null,
            "flex": null,
            "flex_flow": null,
            "grid_area": null,
            "grid_auto_columns": null,
            "grid_auto_flow": null,
            "grid_auto_rows": null,
            "grid_column": null,
            "grid_gap": null,
            "grid_row": null,
            "grid_template_areas": null,
            "grid_template_columns": null,
            "grid_template_rows": null,
            "height": null,
            "justify_content": null,
            "justify_items": null,
            "left": null,
            "margin": null,
            "max_height": null,
            "max_width": null,
            "min_height": null,
            "min_width": null,
            "object_fit": null,
            "object_position": null,
            "order": null,
            "overflow": null,
            "overflow_x": null,
            "overflow_y": null,
            "padding": null,
            "right": null,
            "top": null,
            "visibility": null,
            "width": null
          }
        },
        "c37895a79f6b4597ac45a9e9c6f53811": {
          "model_module": "@jupyter-widgets/controls",
          "model_name": "DescriptionStyleModel",
          "model_module_version": "1.5.0",
          "state": {
            "_model_module": "@jupyter-widgets/controls",
            "_model_module_version": "1.5.0",
            "_model_name": "DescriptionStyleModel",
            "_view_count": null,
            "_view_module": "@jupyter-widgets/base",
            "_view_module_version": "1.2.0",
            "_view_name": "StyleView",
            "description_width": ""
          }
        },
        "52e7d457e03e4f39bd9a42682ac115b7": {
          "model_module": "@jupyter-widgets/base",
          "model_name": "LayoutModel",
          "model_module_version": "1.2.0",
          "state": {
            "_model_module": "@jupyter-widgets/base",
            "_model_module_version": "1.2.0",
            "_model_name": "LayoutModel",
            "_view_count": null,
            "_view_module": "@jupyter-widgets/base",
            "_view_module_version": "1.2.0",
            "_view_name": "LayoutView",
            "align_content": null,
            "align_items": null,
            "align_self": null,
            "border": null,
            "bottom": null,
            "display": null,
            "flex": null,
            "flex_flow": null,
            "grid_area": null,
            "grid_auto_columns": null,
            "grid_auto_flow": null,
            "grid_auto_rows": null,
            "grid_column": null,
            "grid_gap": null,
            "grid_row": null,
            "grid_template_areas": null,
            "grid_template_columns": null,
            "grid_template_rows": null,
            "height": null,
            "justify_content": null,
            "justify_items": null,
            "left": null,
            "margin": null,
            "max_height": null,
            "max_width": null,
            "min_height": null,
            "min_width": null,
            "object_fit": null,
            "object_position": null,
            "order": null,
            "overflow": null,
            "overflow_x": null,
            "overflow_y": null,
            "padding": null,
            "right": null,
            "top": null,
            "visibility": null,
            "width": null
          }
        },
        "22d4a15587854f98a2b0d576904fb595": {
          "model_module": "@jupyter-widgets/controls",
          "model_name": "ProgressStyleModel",
          "model_module_version": "1.5.0",
          "state": {
            "_model_module": "@jupyter-widgets/controls",
            "_model_module_version": "1.5.0",
            "_model_name": "ProgressStyleModel",
            "_view_count": null,
            "_view_module": "@jupyter-widgets/base",
            "_view_module_version": "1.2.0",
            "_view_name": "StyleView",
            "bar_color": null,
            "description_width": ""
          }
        },
        "8fc482c6baa44ff98f0061619a36e2d2": {
          "model_module": "@jupyter-widgets/base",
          "model_name": "LayoutModel",
          "model_module_version": "1.2.0",
          "state": {
            "_model_module": "@jupyter-widgets/base",
            "_model_module_version": "1.2.0",
            "_model_name": "LayoutModel",
            "_view_count": null,
            "_view_module": "@jupyter-widgets/base",
            "_view_module_version": "1.2.0",
            "_view_name": "LayoutView",
            "align_content": null,
            "align_items": null,
            "align_self": null,
            "border": null,
            "bottom": null,
            "display": null,
            "flex": null,
            "flex_flow": null,
            "grid_area": null,
            "grid_auto_columns": null,
            "grid_auto_flow": null,
            "grid_auto_rows": null,
            "grid_column": null,
            "grid_gap": null,
            "grid_row": null,
            "grid_template_areas": null,
            "grid_template_columns": null,
            "grid_template_rows": null,
            "height": null,
            "justify_content": null,
            "justify_items": null,
            "left": null,
            "margin": null,
            "max_height": null,
            "max_width": null,
            "min_height": null,
            "min_width": null,
            "object_fit": null,
            "object_position": null,
            "order": null,
            "overflow": null,
            "overflow_x": null,
            "overflow_y": null,
            "padding": null,
            "right": null,
            "top": null,
            "visibility": null,
            "width": null
          }
        },
        "0896c8c35d2c4ea3b98c577ee4bf3349": {
          "model_module": "@jupyter-widgets/controls",
          "model_name": "DescriptionStyleModel",
          "model_module_version": "1.5.0",
          "state": {
            "_model_module": "@jupyter-widgets/controls",
            "_model_module_version": "1.5.0",
            "_model_name": "DescriptionStyleModel",
            "_view_count": null,
            "_view_module": "@jupyter-widgets/base",
            "_view_module_version": "1.2.0",
            "_view_name": "StyleView",
            "description_width": ""
          }
        },
        "da8d2467466344bcaf28bcbdda19c5c7": {
          "model_module": "@jupyter-widgets/controls",
          "model_name": "HBoxModel",
          "model_module_version": "1.5.0",
          "state": {
            "_dom_classes": [],
            "_model_module": "@jupyter-widgets/controls",
            "_model_module_version": "1.5.0",
            "_model_name": "HBoxModel",
            "_view_count": null,
            "_view_module": "@jupyter-widgets/controls",
            "_view_module_version": "1.5.0",
            "_view_name": "HBoxView",
            "box_style": "",
            "children": [
              "IPY_MODEL_8aeb2c35d8a04980be0d85bad4e9e729",
              "IPY_MODEL_fc7dd7b2cadd4278a629063e01280d17",
              "IPY_MODEL_3f51db1c57ec43e8841bc1f35bb36188"
            ],
            "layout": "IPY_MODEL_effba7fc683e413c9fe5c311068c40bb"
          }
        },
        "8aeb2c35d8a04980be0d85bad4e9e729": {
          "model_module": "@jupyter-widgets/controls",
          "model_name": "HTMLModel",
          "model_module_version": "1.5.0",
          "state": {
            "_dom_classes": [],
            "_model_module": "@jupyter-widgets/controls",
            "_model_module_version": "1.5.0",
            "_model_name": "HTMLModel",
            "_view_count": null,
            "_view_module": "@jupyter-widgets/controls",
            "_view_module_version": "1.5.0",
            "_view_name": "HTMLView",
            "description": "",
            "description_tooltip": null,
            "layout": "IPY_MODEL_b14e392c63fa442bab49a2df19984da8",
            "placeholder": "​",
            "style": "IPY_MODEL_94871c8b17e242c7aa05cf706b2aa7e5",
            "value": "vocab.json: 100%"
          }
        },
        "fc7dd7b2cadd4278a629063e01280d17": {
          "model_module": "@jupyter-widgets/controls",
          "model_name": "FloatProgressModel",
          "model_module_version": "1.5.0",
          "state": {
            "_dom_classes": [],
            "_model_module": "@jupyter-widgets/controls",
            "_model_module_version": "1.5.0",
            "_model_name": "FloatProgressModel",
            "_view_count": null,
            "_view_module": "@jupyter-widgets/controls",
            "_view_module_version": "1.5.0",
            "_view_name": "ProgressView",
            "bar_style": "success",
            "description": "",
            "description_tooltip": null,
            "layout": "IPY_MODEL_78df595223074d06ae97b6648687c8b3",
            "max": 350,
            "min": 0,
            "orientation": "horizontal",
            "style": "IPY_MODEL_af2df4865cd549ceb51097dd9a5f09a3",
            "value": 350
          }
        },
        "3f51db1c57ec43e8841bc1f35bb36188": {
          "model_module": "@jupyter-widgets/controls",
          "model_name": "HTMLModel",
          "model_module_version": "1.5.0",
          "state": {
            "_dom_classes": [],
            "_model_module": "@jupyter-widgets/controls",
            "_model_module_version": "1.5.0",
            "_model_name": "HTMLModel",
            "_view_count": null,
            "_view_module": "@jupyter-widgets/controls",
            "_view_module_version": "1.5.0",
            "_view_name": "HTMLView",
            "description": "",
            "description_tooltip": null,
            "layout": "IPY_MODEL_157309dda3bf449598d25504a4901912",
            "placeholder": "​",
            "style": "IPY_MODEL_f7e4d5eacb614a0ca6323a298d513fd0",
            "value": " 350/350 [00:00&lt;00:00, 19.1kB/s]"
          }
        },
        "effba7fc683e413c9fe5c311068c40bb": {
          "model_module": "@jupyter-widgets/base",
          "model_name": "LayoutModel",
          "model_module_version": "1.2.0",
          "state": {
            "_model_module": "@jupyter-widgets/base",
            "_model_module_version": "1.2.0",
            "_model_name": "LayoutModel",
            "_view_count": null,
            "_view_module": "@jupyter-widgets/base",
            "_view_module_version": "1.2.0",
            "_view_name": "LayoutView",
            "align_content": null,
            "align_items": null,
            "align_self": null,
            "border": null,
            "bottom": null,
            "display": null,
            "flex": null,
            "flex_flow": null,
            "grid_area": null,
            "grid_auto_columns": null,
            "grid_auto_flow": null,
            "grid_auto_rows": null,
            "grid_column": null,
            "grid_gap": null,
            "grid_row": null,
            "grid_template_areas": null,
            "grid_template_columns": null,
            "grid_template_rows": null,
            "height": null,
            "justify_content": null,
            "justify_items": null,
            "left": null,
            "margin": null,
            "max_height": null,
            "max_width": null,
            "min_height": null,
            "min_width": null,
            "object_fit": null,
            "object_position": null,
            "order": null,
            "overflow": null,
            "overflow_x": null,
            "overflow_y": null,
            "padding": null,
            "right": null,
            "top": null,
            "visibility": null,
            "width": null
          }
        },
        "b14e392c63fa442bab49a2df19984da8": {
          "model_module": "@jupyter-widgets/base",
          "model_name": "LayoutModel",
          "model_module_version": "1.2.0",
          "state": {
            "_model_module": "@jupyter-widgets/base",
            "_model_module_version": "1.2.0",
            "_model_name": "LayoutModel",
            "_view_count": null,
            "_view_module": "@jupyter-widgets/base",
            "_view_module_version": "1.2.0",
            "_view_name": "LayoutView",
            "align_content": null,
            "align_items": null,
            "align_self": null,
            "border": null,
            "bottom": null,
            "display": null,
            "flex": null,
            "flex_flow": null,
            "grid_area": null,
            "grid_auto_columns": null,
            "grid_auto_flow": null,
            "grid_auto_rows": null,
            "grid_column": null,
            "grid_gap": null,
            "grid_row": null,
            "grid_template_areas": null,
            "grid_template_columns": null,
            "grid_template_rows": null,
            "height": null,
            "justify_content": null,
            "justify_items": null,
            "left": null,
            "margin": null,
            "max_height": null,
            "max_width": null,
            "min_height": null,
            "min_width": null,
            "object_fit": null,
            "object_position": null,
            "order": null,
            "overflow": null,
            "overflow_x": null,
            "overflow_y": null,
            "padding": null,
            "right": null,
            "top": null,
            "visibility": null,
            "width": null
          }
        },
        "94871c8b17e242c7aa05cf706b2aa7e5": {
          "model_module": "@jupyter-widgets/controls",
          "model_name": "DescriptionStyleModel",
          "model_module_version": "1.5.0",
          "state": {
            "_model_module": "@jupyter-widgets/controls",
            "_model_module_version": "1.5.0",
            "_model_name": "DescriptionStyleModel",
            "_view_count": null,
            "_view_module": "@jupyter-widgets/base",
            "_view_module_version": "1.2.0",
            "_view_name": "StyleView",
            "description_width": ""
          }
        },
        "78df595223074d06ae97b6648687c8b3": {
          "model_module": "@jupyter-widgets/base",
          "model_name": "LayoutModel",
          "model_module_version": "1.2.0",
          "state": {
            "_model_module": "@jupyter-widgets/base",
            "_model_module_version": "1.2.0",
            "_model_name": "LayoutModel",
            "_view_count": null,
            "_view_module": "@jupyter-widgets/base",
            "_view_module_version": "1.2.0",
            "_view_name": "LayoutView",
            "align_content": null,
            "align_items": null,
            "align_self": null,
            "border": null,
            "bottom": null,
            "display": null,
            "flex": null,
            "flex_flow": null,
            "grid_area": null,
            "grid_auto_columns": null,
            "grid_auto_flow": null,
            "grid_auto_rows": null,
            "grid_column": null,
            "grid_gap": null,
            "grid_row": null,
            "grid_template_areas": null,
            "grid_template_columns": null,
            "grid_template_rows": null,
            "height": null,
            "justify_content": null,
            "justify_items": null,
            "left": null,
            "margin": null,
            "max_height": null,
            "max_width": null,
            "min_height": null,
            "min_width": null,
            "object_fit": null,
            "object_position": null,
            "order": null,
            "overflow": null,
            "overflow_x": null,
            "overflow_y": null,
            "padding": null,
            "right": null,
            "top": null,
            "visibility": null,
            "width": null
          }
        },
        "af2df4865cd549ceb51097dd9a5f09a3": {
          "model_module": "@jupyter-widgets/controls",
          "model_name": "ProgressStyleModel",
          "model_module_version": "1.5.0",
          "state": {
            "_model_module": "@jupyter-widgets/controls",
            "_model_module_version": "1.5.0",
            "_model_name": "ProgressStyleModel",
            "_view_count": null,
            "_view_module": "@jupyter-widgets/base",
            "_view_module_version": "1.2.0",
            "_view_name": "StyleView",
            "bar_color": null,
            "description_width": ""
          }
        },
        "157309dda3bf449598d25504a4901912": {
          "model_module": "@jupyter-widgets/base",
          "model_name": "LayoutModel",
          "model_module_version": "1.2.0",
          "state": {
            "_model_module": "@jupyter-widgets/base",
            "_model_module_version": "1.2.0",
            "_model_name": "LayoutModel",
            "_view_count": null,
            "_view_module": "@jupyter-widgets/base",
            "_view_module_version": "1.2.0",
            "_view_name": "LayoutView",
            "align_content": null,
            "align_items": null,
            "align_self": null,
            "border": null,
            "bottom": null,
            "display": null,
            "flex": null,
            "flex_flow": null,
            "grid_area": null,
            "grid_auto_columns": null,
            "grid_auto_flow": null,
            "grid_auto_rows": null,
            "grid_column": null,
            "grid_gap": null,
            "grid_row": null,
            "grid_template_areas": null,
            "grid_template_columns": null,
            "grid_template_rows": null,
            "height": null,
            "justify_content": null,
            "justify_items": null,
            "left": null,
            "margin": null,
            "max_height": null,
            "max_width": null,
            "min_height": null,
            "min_width": null,
            "object_fit": null,
            "object_position": null,
            "order": null,
            "overflow": null,
            "overflow_x": null,
            "overflow_y": null,
            "padding": null,
            "right": null,
            "top": null,
            "visibility": null,
            "width": null
          }
        },
        "f7e4d5eacb614a0ca6323a298d513fd0": {
          "model_module": "@jupyter-widgets/controls",
          "model_name": "DescriptionStyleModel",
          "model_module_version": "1.5.0",
          "state": {
            "_model_module": "@jupyter-widgets/controls",
            "_model_module_version": "1.5.0",
            "_model_name": "DescriptionStyleModel",
            "_view_count": null,
            "_view_module": "@jupyter-widgets/base",
            "_view_module_version": "1.2.0",
            "_view_name": "StyleView",
            "description_width": ""
          }
        },
        "91a4034d367749378d886bc2ba39e290": {
          "model_module": "@jupyter-widgets/controls",
          "model_name": "HBoxModel",
          "model_module_version": "1.5.0",
          "state": {
            "_dom_classes": [],
            "_model_module": "@jupyter-widgets/controls",
            "_model_module_version": "1.5.0",
            "_model_name": "HBoxModel",
            "_view_count": null,
            "_view_module": "@jupyter-widgets/controls",
            "_view_module_version": "1.5.0",
            "_view_name": "HBoxView",
            "box_style": "",
            "children": [
              "IPY_MODEL_587610a5531d4d2c8032eaecc6bc70af",
              "IPY_MODEL_ab6103fd0dc54e2ab90a91b128de7708",
              "IPY_MODEL_64adaabe227c4f66b041d9b0eb846499"
            ],
            "layout": "IPY_MODEL_d9a3aab2106643b5ad11e6e2dc10018a"
          }
        },
        "587610a5531d4d2c8032eaecc6bc70af": {
          "model_module": "@jupyter-widgets/controls",
          "model_name": "HTMLModel",
          "model_module_version": "1.5.0",
          "state": {
            "_dom_classes": [],
            "_model_module": "@jupyter-widgets/controls",
            "_model_module_version": "1.5.0",
            "_model_name": "HTMLModel",
            "_view_count": null,
            "_view_module": "@jupyter-widgets/controls",
            "_view_module_version": "1.5.0",
            "_view_name": "HTMLView",
            "description": "",
            "description_tooltip": null,
            "layout": "IPY_MODEL_4770bd1ce73c450980c9f1c2e008e90c",
            "placeholder": "​",
            "style": "IPY_MODEL_c9e9b72edce3479687cdb94847c1d4ac",
            "value": "special_tokens_map.json: 100%"
          }
        },
        "ab6103fd0dc54e2ab90a91b128de7708": {
          "model_module": "@jupyter-widgets/controls",
          "model_name": "FloatProgressModel",
          "model_module_version": "1.5.0",
          "state": {
            "_dom_classes": [],
            "_model_module": "@jupyter-widgets/controls",
            "_model_module_version": "1.5.0",
            "_model_name": "FloatProgressModel",
            "_view_count": null,
            "_view_module": "@jupyter-widgets/controls",
            "_view_module_version": "1.5.0",
            "_view_name": "ProgressView",
            "bar_style": "success",
            "description": "",
            "description_tooltip": null,
            "layout": "IPY_MODEL_d1b2702504b449efb6f05194c3576ac7",
            "max": 85,
            "min": 0,
            "orientation": "horizontal",
            "style": "IPY_MODEL_99cfb25289aa4de6ad42cb85e56bbce0",
            "value": 85
          }
        },
        "64adaabe227c4f66b041d9b0eb846499": {
          "model_module": "@jupyter-widgets/controls",
          "model_name": "HTMLModel",
          "model_module_version": "1.5.0",
          "state": {
            "_dom_classes": [],
            "_model_module": "@jupyter-widgets/controls",
            "_model_module_version": "1.5.0",
            "_model_name": "HTMLModel",
            "_view_count": null,
            "_view_module": "@jupyter-widgets/controls",
            "_view_module_version": "1.5.0",
            "_view_name": "HTMLView",
            "description": "",
            "description_tooltip": null,
            "layout": "IPY_MODEL_fad4bddadbc7460ab023c9cf4d7222aa",
            "placeholder": "​",
            "style": "IPY_MODEL_030814f2fceb4eeb98d5ea5cbcd2dbdd",
            "value": " 85.0/85.0 [00:00&lt;00:00, 4.04kB/s]"
          }
        },
        "d9a3aab2106643b5ad11e6e2dc10018a": {
          "model_module": "@jupyter-widgets/base",
          "model_name": "LayoutModel",
          "model_module_version": "1.2.0",
          "state": {
            "_model_module": "@jupyter-widgets/base",
            "_model_module_version": "1.2.0",
            "_model_name": "LayoutModel",
            "_view_count": null,
            "_view_module": "@jupyter-widgets/base",
            "_view_module_version": "1.2.0",
            "_view_name": "LayoutView",
            "align_content": null,
            "align_items": null,
            "align_self": null,
            "border": null,
            "bottom": null,
            "display": null,
            "flex": null,
            "flex_flow": null,
            "grid_area": null,
            "grid_auto_columns": null,
            "grid_auto_flow": null,
            "grid_auto_rows": null,
            "grid_column": null,
            "grid_gap": null,
            "grid_row": null,
            "grid_template_areas": null,
            "grid_template_columns": null,
            "grid_template_rows": null,
            "height": null,
            "justify_content": null,
            "justify_items": null,
            "left": null,
            "margin": null,
            "max_height": null,
            "max_width": null,
            "min_height": null,
            "min_width": null,
            "object_fit": null,
            "object_position": null,
            "order": null,
            "overflow": null,
            "overflow_x": null,
            "overflow_y": null,
            "padding": null,
            "right": null,
            "top": null,
            "visibility": null,
            "width": null
          }
        },
        "4770bd1ce73c450980c9f1c2e008e90c": {
          "model_module": "@jupyter-widgets/base",
          "model_name": "LayoutModel",
          "model_module_version": "1.2.0",
          "state": {
            "_model_module": "@jupyter-widgets/base",
            "_model_module_version": "1.2.0",
            "_model_name": "LayoutModel",
            "_view_count": null,
            "_view_module": "@jupyter-widgets/base",
            "_view_module_version": "1.2.0",
            "_view_name": "LayoutView",
            "align_content": null,
            "align_items": null,
            "align_self": null,
            "border": null,
            "bottom": null,
            "display": null,
            "flex": null,
            "flex_flow": null,
            "grid_area": null,
            "grid_auto_columns": null,
            "grid_auto_flow": null,
            "grid_auto_rows": null,
            "grid_column": null,
            "grid_gap": null,
            "grid_row": null,
            "grid_template_areas": null,
            "grid_template_columns": null,
            "grid_template_rows": null,
            "height": null,
            "justify_content": null,
            "justify_items": null,
            "left": null,
            "margin": null,
            "max_height": null,
            "max_width": null,
            "min_height": null,
            "min_width": null,
            "object_fit": null,
            "object_position": null,
            "order": null,
            "overflow": null,
            "overflow_x": null,
            "overflow_y": null,
            "padding": null,
            "right": null,
            "top": null,
            "visibility": null,
            "width": null
          }
        },
        "c9e9b72edce3479687cdb94847c1d4ac": {
          "model_module": "@jupyter-widgets/controls",
          "model_name": "DescriptionStyleModel",
          "model_module_version": "1.5.0",
          "state": {
            "_model_module": "@jupyter-widgets/controls",
            "_model_module_version": "1.5.0",
            "_model_name": "DescriptionStyleModel",
            "_view_count": null,
            "_view_module": "@jupyter-widgets/base",
            "_view_module_version": "1.2.0",
            "_view_name": "StyleView",
            "description_width": ""
          }
        },
        "d1b2702504b449efb6f05194c3576ac7": {
          "model_module": "@jupyter-widgets/base",
          "model_name": "LayoutModel",
          "model_module_version": "1.2.0",
          "state": {
            "_model_module": "@jupyter-widgets/base",
            "_model_module_version": "1.2.0",
            "_model_name": "LayoutModel",
            "_view_count": null,
            "_view_module": "@jupyter-widgets/base",
            "_view_module_version": "1.2.0",
            "_view_name": "LayoutView",
            "align_content": null,
            "align_items": null,
            "align_self": null,
            "border": null,
            "bottom": null,
            "display": null,
            "flex": null,
            "flex_flow": null,
            "grid_area": null,
            "grid_auto_columns": null,
            "grid_auto_flow": null,
            "grid_auto_rows": null,
            "grid_column": null,
            "grid_gap": null,
            "grid_row": null,
            "grid_template_areas": null,
            "grid_template_columns": null,
            "grid_template_rows": null,
            "height": null,
            "justify_content": null,
            "justify_items": null,
            "left": null,
            "margin": null,
            "max_height": null,
            "max_width": null,
            "min_height": null,
            "min_width": null,
            "object_fit": null,
            "object_position": null,
            "order": null,
            "overflow": null,
            "overflow_x": null,
            "overflow_y": null,
            "padding": null,
            "right": null,
            "top": null,
            "visibility": null,
            "width": null
          }
        },
        "99cfb25289aa4de6ad42cb85e56bbce0": {
          "model_module": "@jupyter-widgets/controls",
          "model_name": "ProgressStyleModel",
          "model_module_version": "1.5.0",
          "state": {
            "_model_module": "@jupyter-widgets/controls",
            "_model_module_version": "1.5.0",
            "_model_name": "ProgressStyleModel",
            "_view_count": null,
            "_view_module": "@jupyter-widgets/base",
            "_view_module_version": "1.2.0",
            "_view_name": "StyleView",
            "bar_color": null,
            "description_width": ""
          }
        },
        "fad4bddadbc7460ab023c9cf4d7222aa": {
          "model_module": "@jupyter-widgets/base",
          "model_name": "LayoutModel",
          "model_module_version": "1.2.0",
          "state": {
            "_model_module": "@jupyter-widgets/base",
            "_model_module_version": "1.2.0",
            "_model_name": "LayoutModel",
            "_view_count": null,
            "_view_module": "@jupyter-widgets/base",
            "_view_module_version": "1.2.0",
            "_view_name": "LayoutView",
            "align_content": null,
            "align_items": null,
            "align_self": null,
            "border": null,
            "bottom": null,
            "display": null,
            "flex": null,
            "flex_flow": null,
            "grid_area": null,
            "grid_auto_columns": null,
            "grid_auto_flow": null,
            "grid_auto_rows": null,
            "grid_column": null,
            "grid_gap": null,
            "grid_row": null,
            "grid_template_areas": null,
            "grid_template_columns": null,
            "grid_template_rows": null,
            "height": null,
            "justify_content": null,
            "justify_items": null,
            "left": null,
            "margin": null,
            "max_height": null,
            "max_width": null,
            "min_height": null,
            "min_width": null,
            "object_fit": null,
            "object_position": null,
            "order": null,
            "overflow": null,
            "overflow_x": null,
            "overflow_y": null,
            "padding": null,
            "right": null,
            "top": null,
            "visibility": null,
            "width": null
          }
        },
        "030814f2fceb4eeb98d5ea5cbcd2dbdd": {
          "model_module": "@jupyter-widgets/controls",
          "model_name": "DescriptionStyleModel",
          "model_module_version": "1.5.0",
          "state": {
            "_model_module": "@jupyter-widgets/controls",
            "_model_module_version": "1.5.0",
            "_model_name": "DescriptionStyleModel",
            "_view_count": null,
            "_view_module": "@jupyter-widgets/base",
            "_view_module_version": "1.2.0",
            "_view_name": "StyleView",
            "description_width": ""
          }
        },
        "ddf0c989a1224f0690f8910994f472e2": {
          "model_module": "@jupyter-widgets/controls",
          "model_name": "HBoxModel",
          "model_module_version": "1.5.0",
          "state": {
            "_dom_classes": [],
            "_model_module": "@jupyter-widgets/controls",
            "_model_module_version": "1.5.0",
            "_model_name": "HBoxModel",
            "_view_count": null,
            "_view_module": "@jupyter-widgets/controls",
            "_view_module_version": "1.5.0",
            "_view_name": "HBoxView",
            "box_style": "",
            "children": [
              "IPY_MODEL_1af039efc33c41f1aef72f293436139b",
              "IPY_MODEL_cf7209a093894864841f940e491760f0",
              "IPY_MODEL_111c5e68616e4e66a728757e72a0afc5"
            ],
            "layout": "IPY_MODEL_7a06290dae5340e3be21322e6d800a1e"
          }
        },
        "1af039efc33c41f1aef72f293436139b": {
          "model_module": "@jupyter-widgets/controls",
          "model_name": "HTMLModel",
          "model_module_version": "1.5.0",
          "state": {
            "_dom_classes": [],
            "_model_module": "@jupyter-widgets/controls",
            "_model_module_version": "1.5.0",
            "_model_name": "HTMLModel",
            "_view_count": null,
            "_view_module": "@jupyter-widgets/controls",
            "_view_module_version": "1.5.0",
            "_view_name": "HTMLView",
            "description": "",
            "description_tooltip": null,
            "layout": "IPY_MODEL_1c2cbbbe224348adbcbf6610a9f5c6c1",
            "placeholder": "​",
            "style": "IPY_MODEL_b46ca05654164bfdb82c4b88ca2239f2",
            "value": "pytorch_model.bin: 100%"
          }
        },
        "cf7209a093894864841f940e491760f0": {
          "model_module": "@jupyter-widgets/controls",
          "model_name": "FloatProgressModel",
          "model_module_version": "1.5.0",
          "state": {
            "_dom_classes": [],
            "_model_module": "@jupyter-widgets/controls",
            "_model_module_version": "1.5.0",
            "_model_name": "FloatProgressModel",
            "_view_count": null,
            "_view_module": "@jupyter-widgets/controls",
            "_view_module_version": "1.5.0",
            "_view_name": "ProgressView",
            "bar_style": "success",
            "description": "",
            "description_tooltip": null,
            "layout": "IPY_MODEL_eca89919639d44359ff3badd20486e46",
            "max": 1262089623,
            "min": 0,
            "orientation": "horizontal",
            "style": "IPY_MODEL_22c79062a8484d328c5edb2a923591e9",
            "value": 1262089623
          }
        },
        "111c5e68616e4e66a728757e72a0afc5": {
          "model_module": "@jupyter-widgets/controls",
          "model_name": "HTMLModel",
          "model_module_version": "1.5.0",
          "state": {
            "_dom_classes": [],
            "_model_module": "@jupyter-widgets/controls",
            "_model_module_version": "1.5.0",
            "_model_name": "HTMLModel",
            "_view_count": null,
            "_view_module": "@jupyter-widgets/controls",
            "_view_module_version": "1.5.0",
            "_view_name": "HTMLView",
            "description": "",
            "description_tooltip": null,
            "layout": "IPY_MODEL_fcb176f63f2248638f4db5b971488066",
            "placeholder": "​",
            "style": "IPY_MODEL_4a7ab6e204ff4568b91cc9438f86e5e4",
            "value": " 1.26G/1.26G [00:22&lt;00:00, 53.1MB/s]"
          }
        },
        "7a06290dae5340e3be21322e6d800a1e": {
          "model_module": "@jupyter-widgets/base",
          "model_name": "LayoutModel",
          "model_module_version": "1.2.0",
          "state": {
            "_model_module": "@jupyter-widgets/base",
            "_model_module_version": "1.2.0",
            "_model_name": "LayoutModel",
            "_view_count": null,
            "_view_module": "@jupyter-widgets/base",
            "_view_module_version": "1.2.0",
            "_view_name": "LayoutView",
            "align_content": null,
            "align_items": null,
            "align_self": null,
            "border": null,
            "bottom": null,
            "display": null,
            "flex": null,
            "flex_flow": null,
            "grid_area": null,
            "grid_auto_columns": null,
            "grid_auto_flow": null,
            "grid_auto_rows": null,
            "grid_column": null,
            "grid_gap": null,
            "grid_row": null,
            "grid_template_areas": null,
            "grid_template_columns": null,
            "grid_template_rows": null,
            "height": null,
            "justify_content": null,
            "justify_items": null,
            "left": null,
            "margin": null,
            "max_height": null,
            "max_width": null,
            "min_height": null,
            "min_width": null,
            "object_fit": null,
            "object_position": null,
            "order": null,
            "overflow": null,
            "overflow_x": null,
            "overflow_y": null,
            "padding": null,
            "right": null,
            "top": null,
            "visibility": null,
            "width": null
          }
        },
        "1c2cbbbe224348adbcbf6610a9f5c6c1": {
          "model_module": "@jupyter-widgets/base",
          "model_name": "LayoutModel",
          "model_module_version": "1.2.0",
          "state": {
            "_model_module": "@jupyter-widgets/base",
            "_model_module_version": "1.2.0",
            "_model_name": "LayoutModel",
            "_view_count": null,
            "_view_module": "@jupyter-widgets/base",
            "_view_module_version": "1.2.0",
            "_view_name": "LayoutView",
            "align_content": null,
            "align_items": null,
            "align_self": null,
            "border": null,
            "bottom": null,
            "display": null,
            "flex": null,
            "flex_flow": null,
            "grid_area": null,
            "grid_auto_columns": null,
            "grid_auto_flow": null,
            "grid_auto_rows": null,
            "grid_column": null,
            "grid_gap": null,
            "grid_row": null,
            "grid_template_areas": null,
            "grid_template_columns": null,
            "grid_template_rows": null,
            "height": null,
            "justify_content": null,
            "justify_items": null,
            "left": null,
            "margin": null,
            "max_height": null,
            "max_width": null,
            "min_height": null,
            "min_width": null,
            "object_fit": null,
            "object_position": null,
            "order": null,
            "overflow": null,
            "overflow_x": null,
            "overflow_y": null,
            "padding": null,
            "right": null,
            "top": null,
            "visibility": null,
            "width": null
          }
        },
        "b46ca05654164bfdb82c4b88ca2239f2": {
          "model_module": "@jupyter-widgets/controls",
          "model_name": "DescriptionStyleModel",
          "model_module_version": "1.5.0",
          "state": {
            "_model_module": "@jupyter-widgets/controls",
            "_model_module_version": "1.5.0",
            "_model_name": "DescriptionStyleModel",
            "_view_count": null,
            "_view_module": "@jupyter-widgets/base",
            "_view_module_version": "1.2.0",
            "_view_name": "StyleView",
            "description_width": ""
          }
        },
        "eca89919639d44359ff3badd20486e46": {
          "model_module": "@jupyter-widgets/base",
          "model_name": "LayoutModel",
          "model_module_version": "1.2.0",
          "state": {
            "_model_module": "@jupyter-widgets/base",
            "_model_module_version": "1.2.0",
            "_model_name": "LayoutModel",
            "_view_count": null,
            "_view_module": "@jupyter-widgets/base",
            "_view_module_version": "1.2.0",
            "_view_name": "LayoutView",
            "align_content": null,
            "align_items": null,
            "align_self": null,
            "border": null,
            "bottom": null,
            "display": null,
            "flex": null,
            "flex_flow": null,
            "grid_area": null,
            "grid_auto_columns": null,
            "grid_auto_flow": null,
            "grid_auto_rows": null,
            "grid_column": null,
            "grid_gap": null,
            "grid_row": null,
            "grid_template_areas": null,
            "grid_template_columns": null,
            "grid_template_rows": null,
            "height": null,
            "justify_content": null,
            "justify_items": null,
            "left": null,
            "margin": null,
            "max_height": null,
            "max_width": null,
            "min_height": null,
            "min_width": null,
            "object_fit": null,
            "object_position": null,
            "order": null,
            "overflow": null,
            "overflow_x": null,
            "overflow_y": null,
            "padding": null,
            "right": null,
            "top": null,
            "visibility": null,
            "width": null
          }
        },
        "22c79062a8484d328c5edb2a923591e9": {
          "model_module": "@jupyter-widgets/controls",
          "model_name": "ProgressStyleModel",
          "model_module_version": "1.5.0",
          "state": {
            "_model_module": "@jupyter-widgets/controls",
            "_model_module_version": "1.5.0",
            "_model_name": "ProgressStyleModel",
            "_view_count": null,
            "_view_module": "@jupyter-widgets/base",
            "_view_module_version": "1.2.0",
            "_view_name": "StyleView",
            "bar_color": null,
            "description_width": ""
          }
        },
        "fcb176f63f2248638f4db5b971488066": {
          "model_module": "@jupyter-widgets/base",
          "model_name": "LayoutModel",
          "model_module_version": "1.2.0",
          "state": {
            "_model_module": "@jupyter-widgets/base",
            "_model_module_version": "1.2.0",
            "_model_name": "LayoutModel",
            "_view_count": null,
            "_view_module": "@jupyter-widgets/base",
            "_view_module_version": "1.2.0",
            "_view_name": "LayoutView",
            "align_content": null,
            "align_items": null,
            "align_self": null,
            "border": null,
            "bottom": null,
            "display": null,
            "flex": null,
            "flex_flow": null,
            "grid_area": null,
            "grid_auto_columns": null,
            "grid_auto_flow": null,
            "grid_auto_rows": null,
            "grid_column": null,
            "grid_gap": null,
            "grid_row": null,
            "grid_template_areas": null,
            "grid_template_columns": null,
            "grid_template_rows": null,
            "height": null,
            "justify_content": null,
            "justify_items": null,
            "left": null,
            "margin": null,
            "max_height": null,
            "max_width": null,
            "min_height": null,
            "min_width": null,
            "object_fit": null,
            "object_position": null,
            "order": null,
            "overflow": null,
            "overflow_x": null,
            "overflow_y": null,
            "padding": null,
            "right": null,
            "top": null,
            "visibility": null,
            "width": null
          }
        },
        "4a7ab6e204ff4568b91cc9438f86e5e4": {
          "model_module": "@jupyter-widgets/controls",
          "model_name": "DescriptionStyleModel",
          "model_module_version": "1.5.0",
          "state": {
            "_model_module": "@jupyter-widgets/controls",
            "_model_module_version": "1.5.0",
            "_model_name": "DescriptionStyleModel",
            "_view_count": null,
            "_view_module": "@jupyter-widgets/base",
            "_view_module_version": "1.2.0",
            "_view_name": "StyleView",
            "description_width": ""
          }
        },
        "a28b306a1b0e4980a3ec060b70df4510": {
          "model_module": "@jupyter-widgets/controls",
          "model_name": "ButtonModel",
          "model_module_version": "1.5.0",
          "state": {
            "_dom_classes": [],
            "_model_module": "@jupyter-widgets/controls",
            "_model_module_version": "1.5.0",
            "_model_name": "ButtonModel",
            "_view_count": null,
            "_view_module": "@jupyter-widgets/controls",
            "_view_module_version": "1.5.0",
            "_view_name": "ButtonView",
            "button_style": "",
            "description": "Record Speech",
            "disabled": false,
            "icon": "",
            "layout": "IPY_MODEL_28238bf2da104164a8c15ffbddeb201e",
            "style": "IPY_MODEL_6ec83fffac2a4129a80a91bc442f68b9",
            "tooltip": ""
          }
        },
        "28238bf2da104164a8c15ffbddeb201e": {
          "model_module": "@jupyter-widgets/base",
          "model_name": "LayoutModel",
          "model_module_version": "1.2.0",
          "state": {
            "_model_module": "@jupyter-widgets/base",
            "_model_module_version": "1.2.0",
            "_model_name": "LayoutModel",
            "_view_count": null,
            "_view_module": "@jupyter-widgets/base",
            "_view_module_version": "1.2.0",
            "_view_name": "LayoutView",
            "align_content": null,
            "align_items": null,
            "align_self": null,
            "border": null,
            "bottom": null,
            "display": null,
            "flex": null,
            "flex_flow": null,
            "grid_area": null,
            "grid_auto_columns": null,
            "grid_auto_flow": null,
            "grid_auto_rows": null,
            "grid_column": null,
            "grid_gap": null,
            "grid_row": null,
            "grid_template_areas": null,
            "grid_template_columns": null,
            "grid_template_rows": null,
            "height": null,
            "justify_content": null,
            "justify_items": null,
            "left": null,
            "margin": null,
            "max_height": null,
            "max_width": null,
            "min_height": null,
            "min_width": null,
            "object_fit": null,
            "object_position": null,
            "order": null,
            "overflow": null,
            "overflow_x": null,
            "overflow_y": null,
            "padding": null,
            "right": null,
            "top": null,
            "visibility": null,
            "width": null
          }
        },
        "6ec83fffac2a4129a80a91bc442f68b9": {
          "model_module": "@jupyter-widgets/controls",
          "model_name": "ButtonStyleModel",
          "model_module_version": "1.5.0",
          "state": {
            "_model_module": "@jupyter-widgets/controls",
            "_model_module_version": "1.5.0",
            "_model_name": "ButtonStyleModel",
            "_view_count": null,
            "_view_module": "@jupyter-widgets/base",
            "_view_module_version": "1.2.0",
            "_view_name": "StyleView",
            "button_color": null,
            "font_weight": ""
          }
        }
      }
    }
  },
  "cells": [
    {
      "cell_type": "markdown",
      "metadata": {
        "id": "view-in-github",
        "colab_type": "text"
      },
      "source": [
        "<a href=\"https://colab.research.google.com/github/Mohamed15058/Mohamed15058/blob/main/Another_copy_of_AutomaticSpeechRecognition_PythonCodeTutorial.ipynb\" target=\"_parent\"><img src=\"https://colab.research.google.com/assets/colab-badge.svg\" alt=\"Open In Colab\"/></a>"
      ]
    },
    {
      "cell_type": "code",
      "metadata": {
        "id": "KqiF_SjMysD0",
        "outputId": "0965666c-d903-4a61-9916-3f0be19cdd42",
        "colab": {
          "base_uri": "https://localhost:8080/"
        }
      },
      "source": [
        "!pip install transformers==4.28.1 soundfile sentencepiece torchaudio pydub\n",
        "\n"
      ],
      "execution_count": null,
      "outputs": [
        {
          "output_type": "stream",
          "name": "stdout",
          "text": [
            "Collecting transformers==4.28.1\n",
            "  Downloading transformers-4.28.1-py3-none-any.whl (7.0 MB)\n",
            "\u001b[2K     \u001b[90m━━━━━━━━━━━━━━━━━━━━━━━━━━━━━━━━━━━━━━━━\u001b[0m \u001b[32m7.0/7.0 MB\u001b[0m \u001b[31m18.9 MB/s\u001b[0m eta \u001b[36m0:00:00\u001b[0m\n",
            "\u001b[?25hRequirement already satisfied: soundfile in /usr/local/lib/python3.10/dist-packages (0.12.1)\n",
            "Requirement already satisfied: sentencepiece in /usr/local/lib/python3.10/dist-packages (0.1.99)\n",
            "Requirement already satisfied: torchaudio in /usr/local/lib/python3.10/dist-packages (2.1.0+cu121)\n",
            "Collecting pydub\n",
            "  Downloading pydub-0.25.1-py2.py3-none-any.whl (32 kB)\n",
            "Requirement already satisfied: filelock in /usr/local/lib/python3.10/dist-packages (from transformers==4.28.1) (3.13.1)\n",
            "Requirement already satisfied: huggingface-hub<1.0,>=0.11.0 in /usr/local/lib/python3.10/dist-packages (from transformers==4.28.1) (0.20.3)\n",
            "Requirement already satisfied: numpy>=1.17 in /usr/local/lib/python3.10/dist-packages (from transformers==4.28.1) (1.25.2)\n",
            "Requirement already satisfied: packaging>=20.0 in /usr/local/lib/python3.10/dist-packages (from transformers==4.28.1) (23.2)\n",
            "Requirement already satisfied: pyyaml>=5.1 in /usr/local/lib/python3.10/dist-packages (from transformers==4.28.1) (6.0.1)\n",
            "Requirement already satisfied: regex!=2019.12.17 in /usr/local/lib/python3.10/dist-packages (from transformers==4.28.1) (2023.12.25)\n",
            "Requirement already satisfied: requests in /usr/local/lib/python3.10/dist-packages (from transformers==4.28.1) (2.31.0)\n",
            "Collecting tokenizers!=0.11.3,<0.14,>=0.11.1 (from transformers==4.28.1)\n",
            "  Downloading tokenizers-0.13.3-cp310-cp310-manylinux_2_17_x86_64.manylinux2014_x86_64.whl (7.8 MB)\n",
            "\u001b[2K     \u001b[90m━━━━━━━━━━━━━━━━━━━━━━━━━━━━━━━━━━━━━━━━\u001b[0m \u001b[32m7.8/7.8 MB\u001b[0m \u001b[31m55.2 MB/s\u001b[0m eta \u001b[36m0:00:00\u001b[0m\n",
            "\u001b[?25hRequirement already satisfied: tqdm>=4.27 in /usr/local/lib/python3.10/dist-packages (from transformers==4.28.1) (4.66.2)\n",
            "Requirement already satisfied: cffi>=1.0 in /usr/local/lib/python3.10/dist-packages (from soundfile) (1.16.0)\n",
            "Requirement already satisfied: torch==2.1.0 in /usr/local/lib/python3.10/dist-packages (from torchaudio) (2.1.0+cu121)\n",
            "Requirement already satisfied: typing-extensions in /usr/local/lib/python3.10/dist-packages (from torch==2.1.0->torchaudio) (4.10.0)\n",
            "Requirement already satisfied: sympy in /usr/local/lib/python3.10/dist-packages (from torch==2.1.0->torchaudio) (1.12)\n",
            "Requirement already satisfied: networkx in /usr/local/lib/python3.10/dist-packages (from torch==2.1.0->torchaudio) (3.2.1)\n",
            "Requirement already satisfied: jinja2 in /usr/local/lib/python3.10/dist-packages (from torch==2.1.0->torchaudio) (3.1.3)\n",
            "Requirement already satisfied: fsspec in /usr/local/lib/python3.10/dist-packages (from torch==2.1.0->torchaudio) (2023.6.0)\n",
            "Requirement already satisfied: triton==2.1.0 in /usr/local/lib/python3.10/dist-packages (from torch==2.1.0->torchaudio) (2.1.0)\n",
            "Requirement already satisfied: pycparser in /usr/local/lib/python3.10/dist-packages (from cffi>=1.0->soundfile) (2.21)\n",
            "Requirement already satisfied: charset-normalizer<4,>=2 in /usr/local/lib/python3.10/dist-packages (from requests->transformers==4.28.1) (3.3.2)\n",
            "Requirement already satisfied: idna<4,>=2.5 in /usr/local/lib/python3.10/dist-packages (from requests->transformers==4.28.1) (3.6)\n",
            "Requirement already satisfied: urllib3<3,>=1.21.1 in /usr/local/lib/python3.10/dist-packages (from requests->transformers==4.28.1) (2.0.7)\n",
            "Requirement already satisfied: certifi>=2017.4.17 in /usr/local/lib/python3.10/dist-packages (from requests->transformers==4.28.1) (2024.2.2)\n",
            "Requirement already satisfied: MarkupSafe>=2.0 in /usr/local/lib/python3.10/dist-packages (from jinja2->torch==2.1.0->torchaudio) (2.1.5)\n",
            "Requirement already satisfied: mpmath>=0.19 in /usr/local/lib/python3.10/dist-packages (from sympy->torch==2.1.0->torchaudio) (1.3.0)\n",
            "Installing collected packages: tokenizers, pydub, transformers\n",
            "  Attempting uninstall: tokenizers\n",
            "    Found existing installation: tokenizers 0.15.2\n",
            "    Uninstalling tokenizers-0.15.2:\n",
            "      Successfully uninstalled tokenizers-0.15.2\n",
            "  Attempting uninstall: transformers\n",
            "    Found existing installation: transformers 4.38.2\n",
            "    Uninstalling transformers-4.38.2:\n",
            "      Successfully uninstalled transformers-4.38.2\n",
            "Successfully installed pydub-0.25.1 tokenizers-0.13.3 transformers-4.28.1\n"
          ]
        }
      ]
    },
    {
      "source": [
        "!pip install keras"
      ],
      "cell_type": "code",
      "metadata": {
        "id": "fcwnsg1vD1RG",
        "outputId": "618ef6ee-5611-4e2d-d9fe-306672b9ee00",
        "colab": {
          "base_uri": "https://localhost:8080/"
        }
      },
      "execution_count": null,
      "outputs": [
        {
          "output_type": "stream",
          "name": "stdout",
          "text": [
            "Requirement already satisfied: keras in /usr/local/lib/python3.10/dist-packages (2.15.0)\n"
          ]
        }
      ]
    },
    {
      "source": [
        "import keras\n",
        "\n",
        "print(f\"Keras version: {keras.__version__}\")"
      ],
      "cell_type": "code",
      "metadata": {
        "id": "zWQ1-P39D3ad",
        "outputId": "47010e8b-2c88-4443-8dc9-11fb8712542b",
        "colab": {
          "base_uri": "https://localhost:8080/"
        }
      },
      "execution_count": null,
      "outputs": [
        {
          "output_type": "stream",
          "name": "stdout",
          "text": [
            "Keras version: 2.15.0\n"
          ]
        }
      ]
    },
    {
      "source": [
        "# Restart the kernel to ensure that the changes are applied."
      ],
      "cell_type": "code",
      "metadata": {
        "id": "PFLAknQQEMmd"
      },
      "execution_count": null,
      "outputs": []
    },
    {
      "source": [
        "!pip install tensorflow"
      ],
      "cell_type": "code",
      "metadata": {
        "id": "3sTRO4VNEVyw",
        "outputId": "351cb364-a9fd-41e8-c3f8-7d47b2ff97d8",
        "colab": {
          "base_uri": "https://localhost:8080/"
        }
      },
      "execution_count": null,
      "outputs": [
        {
          "output_type": "stream",
          "name": "stdout",
          "text": [
            "Requirement already satisfied: tensorflow in /usr/local/lib/python3.10/dist-packages (2.15.0)\n",
            "Requirement already satisfied: absl-py>=1.0.0 in /usr/local/lib/python3.10/dist-packages (from tensorflow) (1.4.0)\n",
            "Requirement already satisfied: astunparse>=1.6.0 in /usr/local/lib/python3.10/dist-packages (from tensorflow) (1.6.3)\n",
            "Requirement already satisfied: flatbuffers>=23.5.26 in /usr/local/lib/python3.10/dist-packages (from tensorflow) (23.5.26)\n",
            "Requirement already satisfied: gast!=0.5.0,!=0.5.1,!=0.5.2,>=0.2.1 in /usr/local/lib/python3.10/dist-packages (from tensorflow) (0.5.4)\n",
            "Requirement already satisfied: google-pasta>=0.1.1 in /usr/local/lib/python3.10/dist-packages (from tensorflow) (0.2.0)\n",
            "Requirement already satisfied: h5py>=2.9.0 in /usr/local/lib/python3.10/dist-packages (from tensorflow) (3.9.0)\n",
            "Requirement already satisfied: libclang>=13.0.0 in /usr/local/lib/python3.10/dist-packages (from tensorflow) (16.0.6)\n",
            "Requirement already satisfied: ml-dtypes~=0.2.0 in /usr/local/lib/python3.10/dist-packages (from tensorflow) (0.2.0)\n",
            "Requirement already satisfied: numpy<2.0.0,>=1.23.5 in /usr/local/lib/python3.10/dist-packages (from tensorflow) (1.25.2)\n",
            "Requirement already satisfied: opt-einsum>=2.3.2 in /usr/local/lib/python3.10/dist-packages (from tensorflow) (3.3.0)\n",
            "Requirement already satisfied: packaging in /usr/local/lib/python3.10/dist-packages (from tensorflow) (23.2)\n",
            "Requirement already satisfied: protobuf!=4.21.0,!=4.21.1,!=4.21.2,!=4.21.3,!=4.21.4,!=4.21.5,<5.0.0dev,>=3.20.3 in /usr/local/lib/python3.10/dist-packages (from tensorflow) (3.20.3)\n",
            "Requirement already satisfied: setuptools in /usr/local/lib/python3.10/dist-packages (from tensorflow) (67.7.2)\n",
            "Requirement already satisfied: six>=1.12.0 in /usr/local/lib/python3.10/dist-packages (from tensorflow) (1.16.0)\n",
            "Requirement already satisfied: termcolor>=1.1.0 in /usr/local/lib/python3.10/dist-packages (from tensorflow) (2.4.0)\n",
            "Requirement already satisfied: typing-extensions>=3.6.6 in /usr/local/lib/python3.10/dist-packages (from tensorflow) (4.10.0)\n",
            "Requirement already satisfied: wrapt<1.15,>=1.11.0 in /usr/local/lib/python3.10/dist-packages (from tensorflow) (1.14.1)\n",
            "Requirement already satisfied: tensorflow-io-gcs-filesystem>=0.23.1 in /usr/local/lib/python3.10/dist-packages (from tensorflow) (0.36.0)\n",
            "Requirement already satisfied: grpcio<2.0,>=1.24.3 in /usr/local/lib/python3.10/dist-packages (from tensorflow) (1.62.0)\n",
            "Requirement already satisfied: tensorboard<2.16,>=2.15 in /usr/local/lib/python3.10/dist-packages (from tensorflow) (2.15.2)\n",
            "Requirement already satisfied: tensorflow-estimator<2.16,>=2.15.0 in /usr/local/lib/python3.10/dist-packages (from tensorflow) (2.15.0)\n",
            "Requirement already satisfied: keras<2.16,>=2.15.0 in /usr/local/lib/python3.10/dist-packages (from tensorflow) (2.15.0)\n",
            "Requirement already satisfied: wheel<1.0,>=0.23.0 in /usr/local/lib/python3.10/dist-packages (from astunparse>=1.6.0->tensorflow) (0.42.0)\n",
            "Requirement already satisfied: google-auth<3,>=1.6.3 in /usr/local/lib/python3.10/dist-packages (from tensorboard<2.16,>=2.15->tensorflow) (2.27.0)\n",
            "Requirement already satisfied: google-auth-oauthlib<2,>=0.5 in /usr/local/lib/python3.10/dist-packages (from tensorboard<2.16,>=2.15->tensorflow) (1.2.0)\n",
            "Requirement already satisfied: markdown>=2.6.8 in /usr/local/lib/python3.10/dist-packages (from tensorboard<2.16,>=2.15->tensorflow) (3.5.2)\n",
            "Requirement already satisfied: requests<3,>=2.21.0 in /usr/local/lib/python3.10/dist-packages (from tensorboard<2.16,>=2.15->tensorflow) (2.31.0)\n",
            "Requirement already satisfied: tensorboard-data-server<0.8.0,>=0.7.0 in /usr/local/lib/python3.10/dist-packages (from tensorboard<2.16,>=2.15->tensorflow) (0.7.2)\n",
            "Requirement already satisfied: werkzeug>=1.0.1 in /usr/local/lib/python3.10/dist-packages (from tensorboard<2.16,>=2.15->tensorflow) (3.0.1)\n",
            "Requirement already satisfied: cachetools<6.0,>=2.0.0 in /usr/local/lib/python3.10/dist-packages (from google-auth<3,>=1.6.3->tensorboard<2.16,>=2.15->tensorflow) (5.3.3)\n",
            "Requirement already satisfied: pyasn1-modules>=0.2.1 in /usr/local/lib/python3.10/dist-packages (from google-auth<3,>=1.6.3->tensorboard<2.16,>=2.15->tensorflow) (0.3.0)\n",
            "Requirement already satisfied: rsa<5,>=3.1.4 in /usr/local/lib/python3.10/dist-packages (from google-auth<3,>=1.6.3->tensorboard<2.16,>=2.15->tensorflow) (4.9)\n",
            "Requirement already satisfied: requests-oauthlib>=0.7.0 in /usr/local/lib/python3.10/dist-packages (from google-auth-oauthlib<2,>=0.5->tensorboard<2.16,>=2.15->tensorflow) (1.3.1)\n",
            "Requirement already satisfied: charset-normalizer<4,>=2 in /usr/local/lib/python3.10/dist-packages (from requests<3,>=2.21.0->tensorboard<2.16,>=2.15->tensorflow) (3.3.2)\n",
            "Requirement already satisfied: idna<4,>=2.5 in /usr/local/lib/python3.10/dist-packages (from requests<3,>=2.21.0->tensorboard<2.16,>=2.15->tensorflow) (3.6)\n",
            "Requirement already satisfied: urllib3<3,>=1.21.1 in /usr/local/lib/python3.10/dist-packages (from requests<3,>=2.21.0->tensorboard<2.16,>=2.15->tensorflow) (2.0.7)\n",
            "Requirement already satisfied: certifi>=2017.4.17 in /usr/local/lib/python3.10/dist-packages (from requests<3,>=2.21.0->tensorboard<2.16,>=2.15->tensorflow) (2024.2.2)\n",
            "Requirement already satisfied: MarkupSafe>=2.1.1 in /usr/local/lib/python3.10/dist-packages (from werkzeug>=1.0.1->tensorboard<2.16,>=2.15->tensorflow) (2.1.5)\n",
            "Requirement already satisfied: pyasn1<0.6.0,>=0.4.6 in /usr/local/lib/python3.10/dist-packages (from pyasn1-modules>=0.2.1->google-auth<3,>=1.6.3->tensorboard<2.16,>=2.15->tensorflow) (0.5.1)\n",
            "Requirement already satisfied: oauthlib>=3.0.0 in /usr/local/lib/python3.10/dist-packages (from requests-oauthlib>=0.7.0->google-auth-oauthlib<2,>=0.5->tensorboard<2.16,>=2.15->tensorflow) (3.2.2)\n"
          ]
        }
      ]
    },
    {
      "source": [
        "!pip install keras"
      ],
      "cell_type": "code",
      "metadata": {
        "id": "kLw13SWdEv-L",
        "outputId": "0d4145a4-bf90-4bda-f277-fb33b7eba840",
        "colab": {
          "base_uri": "https://localhost:8080/"
        }
      },
      "execution_count": null,
      "outputs": [
        {
          "output_type": "stream",
          "name": "stdout",
          "text": [
            "Requirement already satisfied: keras in /usr/local/lib/python3.10/dist-packages (2.15.0)\n"
          ]
        }
      ]
    },
    {
      "source": [
        "import tensorflow as tf"
      ],
      "cell_type": "code",
      "metadata": {
        "id": "SQM0AuPFEdJJ"
      },
      "execution_count": 2,
      "outputs": []
    },
    {
      "source": [
        "import os\n",
        "os.kill(os.getpid(), 9)"
      ],
      "cell_type": "code",
      "metadata": {
        "id": "YPOy1mcWO7GI"
      },
      "execution_count": null,
      "outputs": []
    },
    {
      "cell_type": "code",
      "source": [
        "!pip install --upgrade pip\n",
        "!pip install --upgrade transformers tensorflow"
      ],
      "metadata": {
        "id": "s8woC2n7Qy3G",
        "colab": {
          "base_uri": "https://localhost:8080/",
          "height": 1000
        },
        "outputId": "5d67e22f-395a-45d1-d7e9-fc95814a7608"
      },
      "execution_count": null,
      "outputs": [
        {
          "output_type": "stream",
          "name": "stdout",
          "text": [
            "Requirement already satisfied: pip in /usr/local/lib/python3.10/dist-packages (23.1.2)\n",
            "Collecting pip\n",
            "  Downloading pip-24.0-py3-none-any.whl (2.1 MB)\n",
            "\u001b[2K     \u001b[90m━━━━━━━━━━━━━━━━━━━━━━━━━━━━━━━━━━━━━━━━\u001b[0m \u001b[32m2.1/2.1 MB\u001b[0m \u001b[31m10.6 MB/s\u001b[0m eta \u001b[36m0:00:00\u001b[0m\n",
            "\u001b[?25hInstalling collected packages: pip\n",
            "  Attempting uninstall: pip\n",
            "    Found existing installation: pip 23.1.2\n",
            "    Uninstalling pip-23.1.2:\n",
            "      Successfully uninstalled pip-23.1.2\n",
            "Successfully installed pip-24.0\n",
            "Requirement already satisfied: transformers in /usr/local/lib/python3.10/dist-packages (4.28.1)\n",
            "Collecting transformers\n",
            "  Downloading transformers-4.38.2-py3-none-any.whl.metadata (130 kB)\n",
            "\u001b[2K     \u001b[90m━━━━━━━━━━━━━━━━━━━━━━━━━━━━━━━━━━━━━━━━\u001b[0m \u001b[32m130.7/130.7 kB\u001b[0m \u001b[31m4.0 MB/s\u001b[0m eta \u001b[36m0:00:00\u001b[0m\n",
            "\u001b[?25hRequirement already satisfied: tensorflow in /usr/local/lib/python3.10/dist-packages (2.15.0)\n",
            "Collecting tensorflow\n",
            "  Downloading tensorflow-2.16.1-cp310-cp310-manylinux_2_17_x86_64.manylinux2014_x86_64.whl.metadata (4.3 kB)\n",
            "Requirement already satisfied: filelock in /usr/local/lib/python3.10/dist-packages (from transformers) (3.13.1)\n",
            "Requirement already satisfied: huggingface-hub<1.0,>=0.19.3 in /usr/local/lib/python3.10/dist-packages (from transformers) (0.20.3)\n",
            "Requirement already satisfied: numpy>=1.17 in /usr/local/lib/python3.10/dist-packages (from transformers) (1.25.2)\n",
            "Requirement already satisfied: packaging>=20.0 in /usr/local/lib/python3.10/dist-packages (from transformers) (23.2)\n",
            "Requirement already satisfied: pyyaml>=5.1 in /usr/local/lib/python3.10/dist-packages (from transformers) (6.0.1)\n",
            "Requirement already satisfied: regex!=2019.12.17 in /usr/local/lib/python3.10/dist-packages (from transformers) (2023.12.25)\n",
            "Requirement already satisfied: requests in /usr/local/lib/python3.10/dist-packages (from transformers) (2.31.0)\n",
            "Collecting tokenizers<0.19,>=0.14 (from transformers)\n",
            "  Downloading tokenizers-0.15.2-cp310-cp310-manylinux_2_17_x86_64.manylinux2014_x86_64.whl.metadata (6.7 kB)\n",
            "Requirement already satisfied: safetensors>=0.4.1 in /usr/local/lib/python3.10/dist-packages (from transformers) (0.4.2)\n",
            "Requirement already satisfied: tqdm>=4.27 in /usr/local/lib/python3.10/dist-packages (from transformers) (4.66.2)\n",
            "Requirement already satisfied: absl-py>=1.0.0 in /usr/local/lib/python3.10/dist-packages (from tensorflow) (1.4.0)\n",
            "Requirement already satisfied: astunparse>=1.6.0 in /usr/local/lib/python3.10/dist-packages (from tensorflow) (1.6.3)\n",
            "Requirement already satisfied: flatbuffers>=23.5.26 in /usr/local/lib/python3.10/dist-packages (from tensorflow) (23.5.26)\n",
            "Requirement already satisfied: gast!=0.5.0,!=0.5.1,!=0.5.2,>=0.2.1 in /usr/local/lib/python3.10/dist-packages (from tensorflow) (0.5.4)\n",
            "Requirement already satisfied: google-pasta>=0.1.1 in /usr/local/lib/python3.10/dist-packages (from tensorflow) (0.2.0)\n",
            "Collecting h5py>=3.10.0 (from tensorflow)\n",
            "  Downloading h5py-3.10.0-cp310-cp310-manylinux_2_17_x86_64.manylinux2014_x86_64.whl.metadata (2.5 kB)\n",
            "Requirement already satisfied: libclang>=13.0.0 in /usr/local/lib/python3.10/dist-packages (from tensorflow) (16.0.6)\n",
            "Collecting ml-dtypes~=0.3.1 (from tensorflow)\n",
            "  Downloading ml_dtypes-0.3.2-cp310-cp310-manylinux_2_17_x86_64.manylinux2014_x86_64.whl.metadata (20 kB)\n",
            "Requirement already satisfied: opt-einsum>=2.3.2 in /usr/local/lib/python3.10/dist-packages (from tensorflow) (3.3.0)\n",
            "Requirement already satisfied: protobuf!=4.21.0,!=4.21.1,!=4.21.2,!=4.21.3,!=4.21.4,!=4.21.5,<5.0.0dev,>=3.20.3 in /usr/local/lib/python3.10/dist-packages (from tensorflow) (3.20.3)\n",
            "Requirement already satisfied: setuptools in /usr/local/lib/python3.10/dist-packages (from tensorflow) (67.7.2)\n",
            "Requirement already satisfied: six>=1.12.0 in /usr/local/lib/python3.10/dist-packages (from tensorflow) (1.16.0)\n",
            "Requirement already satisfied: termcolor>=1.1.0 in /usr/local/lib/python3.10/dist-packages (from tensorflow) (2.4.0)\n",
            "Requirement already satisfied: typing-extensions>=3.6.6 in /usr/local/lib/python3.10/dist-packages (from tensorflow) (4.10.0)\n",
            "Requirement already satisfied: wrapt>=1.11.0 in /usr/local/lib/python3.10/dist-packages (from tensorflow) (1.14.1)\n",
            "Requirement already satisfied: grpcio<2.0,>=1.24.3 in /usr/local/lib/python3.10/dist-packages (from tensorflow) (1.62.0)\n",
            "Collecting tensorboard<2.17,>=2.16 (from tensorflow)\n",
            "  Downloading tensorboard-2.16.2-py3-none-any.whl.metadata (1.6 kB)\n",
            "Collecting keras>=3.0.0 (from tensorflow)\n",
            "  Downloading keras-3.0.5-py3-none-any.whl.metadata (4.8 kB)\n",
            "Requirement already satisfied: tensorflow-io-gcs-filesystem>=0.23.1 in /usr/local/lib/python3.10/dist-packages (from tensorflow) (0.36.0)\n",
            "Requirement already satisfied: wheel<1.0,>=0.23.0 in /usr/local/lib/python3.10/dist-packages (from astunparse>=1.6.0->tensorflow) (0.42.0)\n",
            "Requirement already satisfied: fsspec>=2023.5.0 in /usr/local/lib/python3.10/dist-packages (from huggingface-hub<1.0,>=0.19.3->transformers) (2023.6.0)\n",
            "Requirement already satisfied: rich in /usr/local/lib/python3.10/dist-packages (from keras>=3.0.0->tensorflow) (13.7.1)\n",
            "Collecting namex (from keras>=3.0.0->tensorflow)\n",
            "  Downloading namex-0.0.7-py3-none-any.whl.metadata (246 bytes)\n",
            "Requirement already satisfied: dm-tree in /usr/local/lib/python3.10/dist-packages (from keras>=3.0.0->tensorflow) (0.1.8)\n",
            "Requirement already satisfied: charset-normalizer<4,>=2 in /usr/local/lib/python3.10/dist-packages (from requests->transformers) (3.3.2)\n",
            "Requirement already satisfied: idna<4,>=2.5 in /usr/local/lib/python3.10/dist-packages (from requests->transformers) (3.6)\n",
            "Requirement already satisfied: urllib3<3,>=1.21.1 in /usr/local/lib/python3.10/dist-packages (from requests->transformers) (2.0.7)\n",
            "Requirement already satisfied: certifi>=2017.4.17 in /usr/local/lib/python3.10/dist-packages (from requests->transformers) (2024.2.2)\n",
            "Requirement already satisfied: markdown>=2.6.8 in /usr/local/lib/python3.10/dist-packages (from tensorboard<2.17,>=2.16->tensorflow) (3.5.2)\n",
            "Requirement already satisfied: tensorboard-data-server<0.8.0,>=0.7.0 in /usr/local/lib/python3.10/dist-packages (from tensorboard<2.17,>=2.16->tensorflow) (0.7.2)\n",
            "Requirement already satisfied: werkzeug>=1.0.1 in /usr/local/lib/python3.10/dist-packages (from tensorboard<2.17,>=2.16->tensorflow) (3.0.1)\n",
            "Requirement already satisfied: MarkupSafe>=2.1.1 in /usr/local/lib/python3.10/dist-packages (from werkzeug>=1.0.1->tensorboard<2.17,>=2.16->tensorflow) (2.1.5)\n",
            "Requirement already satisfied: markdown-it-py>=2.2.0 in /usr/local/lib/python3.10/dist-packages (from rich->keras>=3.0.0->tensorflow) (3.0.0)\n",
            "Requirement already satisfied: pygments<3.0.0,>=2.13.0 in /usr/local/lib/python3.10/dist-packages (from rich->keras>=3.0.0->tensorflow) (2.16.1)\n",
            "Requirement already satisfied: mdurl~=0.1 in /usr/local/lib/python3.10/dist-packages (from markdown-it-py>=2.2.0->rich->keras>=3.0.0->tensorflow) (0.1.2)\n",
            "Downloading transformers-4.38.2-py3-none-any.whl (8.5 MB)\n",
            "\u001b[2K   \u001b[90m━━━━━━━━━━━━━━━━━━━━━━━━━━━━━━━━━━━━━━━━\u001b[0m \u001b[32m8.5/8.5 MB\u001b[0m \u001b[31m29.9 MB/s\u001b[0m eta \u001b[36m0:00:00\u001b[0m\n",
            "\u001b[?25hDownloading tensorflow-2.16.1-cp310-cp310-manylinux_2_17_x86_64.manylinux2014_x86_64.whl (589.8 MB)\n",
            "\u001b[2K   \u001b[90m━━━━━━━━━━━━━━━━━━━━━━━━━━━━━━━━━━━━━━━━\u001b[0m \u001b[32m589.8/589.8 MB\u001b[0m \u001b[31m3.1 MB/s\u001b[0m eta \u001b[36m0:00:00\u001b[0m\n",
            "\u001b[?25hDownloading h5py-3.10.0-cp310-cp310-manylinux_2_17_x86_64.manylinux2014_x86_64.whl (4.8 MB)\n",
            "\u001b[2K   \u001b[90m━━━━━━━━━━━━━━━━━━━━━━━━━━━━━━━━━━━━━━━━\u001b[0m \u001b[32m4.8/4.8 MB\u001b[0m \u001b[31m105.7 MB/s\u001b[0m eta \u001b[36m0:00:00\u001b[0m\n",
            "\u001b[?25hDownloading keras-3.0.5-py3-none-any.whl (1.0 MB)\n",
            "\u001b[2K   \u001b[90m━━━━━━━━━━━━━━━━━━━━━━━━━━━━━━━━━━━━━━━━\u001b[0m \u001b[32m1.0/1.0 MB\u001b[0m \u001b[31m68.7 MB/s\u001b[0m eta \u001b[36m0:00:00\u001b[0m\n",
            "\u001b[?25hDownloading ml_dtypes-0.3.2-cp310-cp310-manylinux_2_17_x86_64.manylinux2014_x86_64.whl (2.2 MB)\n",
            "\u001b[2K   \u001b[90m━━━━━━━━━━━━━━━━━━━━━━━━━━━━━━━━━━━━━━━━\u001b[0m \u001b[32m2.2/2.2 MB\u001b[0m \u001b[31m89.8 MB/s\u001b[0m eta \u001b[36m0:00:00\u001b[0m\n",
            "\u001b[?25hDownloading tensorboard-2.16.2-py3-none-any.whl (5.5 MB)\n",
            "\u001b[2K   \u001b[90m━━━━━━━━━━━━━━━━━━━━━━━━━━━━━━━━━━━━━━━━\u001b[0m \u001b[32m5.5/5.5 MB\u001b[0m \u001b[31m109.8 MB/s\u001b[0m eta \u001b[36m0:00:00\u001b[0m\n",
            "\u001b[?25hDownloading tokenizers-0.15.2-cp310-cp310-manylinux_2_17_x86_64.manylinux2014_x86_64.whl (3.6 MB)\n",
            "\u001b[2K   \u001b[90m━━━━━━━━━━━━━━━━━━━━━━━━━━━━━━━━━━━━━━━━\u001b[0m \u001b[32m3.6/3.6 MB\u001b[0m \u001b[31m95.9 MB/s\u001b[0m eta \u001b[36m0:00:00\u001b[0m\n",
            "\u001b[?25hDownloading namex-0.0.7-py3-none-any.whl (5.8 kB)\n",
            "Installing collected packages: namex, ml-dtypes, h5py, tensorboard, tokenizers, keras, transformers, tensorflow\n",
            "  Attempting uninstall: ml-dtypes\n",
            "    Found existing installation: ml-dtypes 0.2.0\n",
            "    Uninstalling ml-dtypes-0.2.0:\n",
            "      Successfully uninstalled ml-dtypes-0.2.0\n",
            "  Attempting uninstall: h5py\n",
            "    Found existing installation: h5py 3.9.0\n",
            "    Uninstalling h5py-3.9.0:\n",
            "      Successfully uninstalled h5py-3.9.0\n",
            "  Attempting uninstall: tensorboard\n",
            "    Found existing installation: tensorboard 2.15.2\n",
            "    Uninstalling tensorboard-2.15.2:\n",
            "      Successfully uninstalled tensorboard-2.15.2\n",
            "  Attempting uninstall: tokenizers\n",
            "    Found existing installation: tokenizers 0.13.3\n",
            "    Uninstalling tokenizers-0.13.3:\n",
            "      Successfully uninstalled tokenizers-0.13.3\n",
            "  Attempting uninstall: keras\n",
            "    Found existing installation: keras 2.15.0\n",
            "    Uninstalling keras-2.15.0:\n",
            "      Successfully uninstalled keras-2.15.0\n",
            "  Attempting uninstall: transformers\n",
            "    Found existing installation: transformers 4.28.1\n",
            "    Uninstalling transformers-4.28.1:\n",
            "      Successfully uninstalled transformers-4.28.1\n",
            "  Attempting uninstall: tensorflow\n",
            "    Found existing installation: tensorflow 2.15.0\n",
            "    Uninstalling tensorflow-2.15.0:\n",
            "      Successfully uninstalled tensorflow-2.15.0\n",
            "Successfully installed h5py-3.10.0 keras-3.0.5 ml-dtypes-0.3.2 namex-0.0.7 tensorboard-2.16.2 tensorflow-2.16.1 tokenizers-0.15.2 transformers-4.38.2\n",
            "\u001b[33mWARNING: Running pip as the 'root' user can result in broken permissions and conflicting behaviour with the system package manager. It is recommended to use a virtual environment instead: https://pip.pypa.io/warnings/venv\u001b[0m\u001b[33m\n",
            "\u001b[0m"
          ]
        },
        {
          "output_type": "display_data",
          "data": {
            "application/vnd.colab-display-data+json": {
              "pip_warning": {
                "packages": [
                  "h5py",
                  "keras",
                  "ml_dtypes",
                  "tensorboard",
                  "tensorflow",
                  "transformers"
                ]
              },
              "id": "dcb40bc15983438d95c1eda150878610"
            }
          },
          "metadata": {}
        }
      ]
    },
    {
      "cell_type": "code",
      "source": [
        "import tensorflow as tf\n",
        "import keras\n",
        "from tensorflow import keras"
      ],
      "metadata": {
        "id": "tKQ1LsG_XpL4"
      },
      "execution_count": null,
      "outputs": []
    },
    {
      "cell_type": "code",
      "source": [
        "!pip show keras"
      ],
      "metadata": {
        "colab": {
          "base_uri": "https://localhost:8080/"
        },
        "id": "UmxEkzsEXtvA",
        "outputId": "7ac600b4-9321-490c-80ee-b07692009bc1"
      },
      "execution_count": null,
      "outputs": [
        {
          "output_type": "stream",
          "name": "stdout",
          "text": [
            "Name: keras\n",
            "Version: 3.0.5\n",
            "Summary: Multi-backend Keras.\n",
            "Home-page: https://github.com/keras-team/keras\n",
            "Author: Keras team\n",
            "Author-email: keras-users@googlegroups.com\n",
            "License: Apache License 2.0\n",
            "Location: /usr/local/lib/python3.10/dist-packages\n",
            "Requires: absl-py, dm-tree, h5py, ml-dtypes, namex, numpy, rich\n",
            "Required-by: tensorflow\n"
          ]
        }
      ]
    },
    {
      "source": [
        "!pip install torch\n",
        "import torch\n",
        "\n",
        "from transformers import Wav2Vec2Processor, Wav2Vec2ForCTC\n",
        "\n",
        "device = \"cuda\" if torch.cuda.is_available() else \"cpu\"\n",
        "\n",
        "wav2vec2_model_name = \"jonatasgrosman/wav2vec2-large-xlsr-53-german\"  # German-only, 1.26GB\n",
        "\n",
        "wav2vec2_processor = Wav2Vec2Processor.from_pretrained(wav2vec2_model_name)\n",
        "wav2vec2_model = Wav2Vec2ForCTC.from_pretrained(wav2vec2_model_name).to(device)"
      ],
      "cell_type": "code",
      "metadata": {
        "colab": {
          "base_uri": "https://localhost:8080/",
          "height": 596,
          "referenced_widgets": [
            "c2f43c12fd6d40b796b63b2dcaaa6737",
            "05e3de52442241b2be28826db06feead",
            "c07eb03378b242908e3a17867fd1f28b",
            "f94749c1d6944f0793d5bf4824de9ad6",
            "ae78872dc2ab46fd8f941795aaf76e30",
            "367abaa6a3c64616acefb2f8b2dce2df",
            "ceba9db6ab684ba08c0470584aa6e111",
            "3435ad9b40a34c06adb1b47e49b95816",
            "de456514bd634e6db3d593137d9f4171",
            "4f301d6550af44d7abcb38d3204592c6",
            "357c519bcb0d4f1691d9b0c604973673",
            "e034855ccca243b988e553bde7f003c6",
            "e15d547b5bef4726912a9d149671c7f4",
            "6c87851690714da38f153ab3edc8badb",
            "8b17d2fc5462481aa78652a651ee07b3",
            "21b97be21c2d46f7bc971672fe624510",
            "e69179853bf4435db1869462c9c31366",
            "c37895a79f6b4597ac45a9e9c6f53811",
            "52e7d457e03e4f39bd9a42682ac115b7",
            "22d4a15587854f98a2b0d576904fb595",
            "8fc482c6baa44ff98f0061619a36e2d2",
            "0896c8c35d2c4ea3b98c577ee4bf3349",
            "da8d2467466344bcaf28bcbdda19c5c7",
            "8aeb2c35d8a04980be0d85bad4e9e729",
            "fc7dd7b2cadd4278a629063e01280d17",
            "3f51db1c57ec43e8841bc1f35bb36188",
            "effba7fc683e413c9fe5c311068c40bb",
            "b14e392c63fa442bab49a2df19984da8",
            "94871c8b17e242c7aa05cf706b2aa7e5",
            "78df595223074d06ae97b6648687c8b3",
            "af2df4865cd549ceb51097dd9a5f09a3",
            "157309dda3bf449598d25504a4901912",
            "f7e4d5eacb614a0ca6323a298d513fd0",
            "91a4034d367749378d886bc2ba39e290",
            "587610a5531d4d2c8032eaecc6bc70af",
            "ab6103fd0dc54e2ab90a91b128de7708",
            "64adaabe227c4f66b041d9b0eb846499",
            "d9a3aab2106643b5ad11e6e2dc10018a",
            "4770bd1ce73c450980c9f1c2e008e90c",
            "c9e9b72edce3479687cdb94847c1d4ac",
            "d1b2702504b449efb6f05194c3576ac7",
            "99cfb25289aa4de6ad42cb85e56bbce0",
            "fad4bddadbc7460ab023c9cf4d7222aa",
            "030814f2fceb4eeb98d5ea5cbcd2dbdd",
            "ddf0c989a1224f0690f8910994f472e2",
            "1af039efc33c41f1aef72f293436139b",
            "cf7209a093894864841f940e491760f0",
            "111c5e68616e4e66a728757e72a0afc5",
            "7a06290dae5340e3be21322e6d800a1e",
            "1c2cbbbe224348adbcbf6610a9f5c6c1",
            "b46ca05654164bfdb82c4b88ca2239f2",
            "eca89919639d44359ff3badd20486e46",
            "22c79062a8484d328c5edb2a923591e9",
            "fcb176f63f2248638f4db5b971488066",
            "4a7ab6e204ff4568b91cc9438f86e5e4"
          ]
        },
        "id": "3BZZxEJ0YFkW",
        "outputId": "37729f65-cf72-44b2-bc5a-8749a2f6c54b"
      },
      "execution_count": 3,
      "outputs": [
        {
          "output_type": "stream",
          "name": "stdout",
          "text": [
            "Requirement already satisfied: torch in /usr/local/lib/python3.10/dist-packages (2.1.0+cu121)\n",
            "Requirement already satisfied: filelock in /usr/local/lib/python3.10/dist-packages (from torch) (3.13.1)\n",
            "Requirement already satisfied: typing-extensions in /usr/local/lib/python3.10/dist-packages (from torch) (4.10.0)\n",
            "Requirement already satisfied: sympy in /usr/local/lib/python3.10/dist-packages (from torch) (1.12)\n",
            "Requirement already satisfied: networkx in /usr/local/lib/python3.10/dist-packages (from torch) (3.2.1)\n",
            "Requirement already satisfied: jinja2 in /usr/local/lib/python3.10/dist-packages (from torch) (3.1.3)\n",
            "Requirement already satisfied: fsspec in /usr/local/lib/python3.10/dist-packages (from torch) (2023.6.0)\n",
            "Requirement already satisfied: triton==2.1.0 in /usr/local/lib/python3.10/dist-packages (from torch) (2.1.0)\n",
            "Requirement already satisfied: MarkupSafe>=2.0 in /usr/local/lib/python3.10/dist-packages (from jinja2->torch) (2.1.5)\n",
            "Requirement already satisfied: mpmath>=0.19 in /usr/local/lib/python3.10/dist-packages (from sympy->torch) (1.3.0)\n"
          ]
        },
        {
          "output_type": "stream",
          "name": "stderr",
          "text": [
            "/usr/local/lib/python3.10/dist-packages/huggingface_hub/utils/_token.py:88: UserWarning: \n",
            "The secret `HF_TOKEN` does not exist in your Colab secrets.\n",
            "To authenticate with the Hugging Face Hub, create a token in your settings tab (https://huggingface.co/settings/tokens), set it as secret in your Google Colab and restart your session.\n",
            "You will be able to reuse this secret in all of your notebooks.\n",
            "Please note that authentication is recommended but still optional to access public models or datasets.\n",
            "  warnings.warn(\n"
          ]
        },
        {
          "output_type": "display_data",
          "data": {
            "text/plain": [
              "preprocessor_config.json:   0%|          | 0.00/262 [00:00<?, ?B/s]"
            ],
            "application/vnd.jupyter.widget-view+json": {
              "version_major": 2,
              "version_minor": 0,
              "model_id": "c2f43c12fd6d40b796b63b2dcaaa6737"
            }
          },
          "metadata": {}
        },
        {
          "output_type": "display_data",
          "data": {
            "text/plain": [
              "config.json:   0%|          | 0.00/1.78k [00:00<?, ?B/s]"
            ],
            "application/vnd.jupyter.widget-view+json": {
              "version_major": 2,
              "version_minor": 0,
              "model_id": "e034855ccca243b988e553bde7f003c6"
            }
          },
          "metadata": {}
        },
        {
          "output_type": "display_data",
          "data": {
            "text/plain": [
              "vocab.json:   0%|          | 0.00/350 [00:00<?, ?B/s]"
            ],
            "application/vnd.jupyter.widget-view+json": {
              "version_major": 2,
              "version_minor": 0,
              "model_id": "da8d2467466344bcaf28bcbdda19c5c7"
            }
          },
          "metadata": {}
        },
        {
          "output_type": "display_data",
          "data": {
            "text/plain": [
              "special_tokens_map.json:   0%|          | 0.00/85.0 [00:00<?, ?B/s]"
            ],
            "application/vnd.jupyter.widget-view+json": {
              "version_major": 2,
              "version_minor": 0,
              "model_id": "91a4034d367749378d886bc2ba39e290"
            }
          },
          "metadata": {}
        },
        {
          "output_type": "display_data",
          "data": {
            "text/plain": [
              "pytorch_model.bin:   0%|          | 0.00/1.26G [00:00<?, ?B/s]"
            ],
            "application/vnd.jupyter.widget-view+json": {
              "version_major": 2,
              "version_minor": 0,
              "model_id": "ddf0c989a1224f0690f8910994f472e2"
            }
          },
          "metadata": {}
        },
        {
          "output_type": "stream",
          "name": "stderr",
          "text": [
            "/usr/local/lib/python3.10/dist-packages/torch/_utils.py:831: UserWarning: TypedStorage is deprecated. It will be removed in the future and UntypedStorage will be the only storage class. This should only matter to you if you are using storages directly.  To access UntypedStorage directly, use tensor.untyped_storage() instead of tensor.storage()\n",
            "  return self.fget.__get__(instance, owner)()\n",
            "Some weights of the model checkpoint at jonatasgrosman/wav2vec2-large-xlsr-53-german were not used when initializing Wav2Vec2ForCTC: ['wav2vec2.encoder.pos_conv_embed.conv.weight_g', 'wav2vec2.encoder.pos_conv_embed.conv.weight_v']\n",
            "- This IS expected if you are initializing Wav2Vec2ForCTC from the checkpoint of a model trained on another task or with another architecture (e.g. initializing a BertForSequenceClassification model from a BertForPreTraining model).\n",
            "- This IS NOT expected if you are initializing Wav2Vec2ForCTC from the checkpoint of a model that you expect to be exactly identical (initializing a BertForSequenceClassification model from a BertForSequenceClassification model).\n",
            "Some weights of Wav2Vec2ForCTC were not initialized from the model checkpoint at jonatasgrosman/wav2vec2-large-xlsr-53-german and are newly initialized: ['wav2vec2.encoder.pos_conv_embed.conv.parametrizations.weight.original0', 'wav2vec2.encoder.pos_conv_embed.conv.parametrizations.weight.original1']\n",
            "You should probably TRAIN this model on a down-stream task to be able to use it for predictions and inference.\n"
          ]
        }
      ]
    },
    {
      "cell_type": "code",
      "source": [
        "wav2vec2_model.train()"
      ],
      "metadata": {
        "colab": {
          "base_uri": "https://localhost:8080/"
        },
        "id": "XstL25IP4C9u",
        "outputId": "b995224b-8015-4de6-eb75-7844f5c92958"
      },
      "execution_count": 56,
      "outputs": [
        {
          "output_type": "execute_result",
          "data": {
            "text/plain": [
              "Wav2Vec2ForCTC(\n",
              "  (wav2vec2): Wav2Vec2Model(\n",
              "    (feature_extractor): Wav2Vec2FeatureEncoder(\n",
              "      (conv_layers): ModuleList(\n",
              "        (0): Wav2Vec2LayerNormConvLayer(\n",
              "          (conv): Conv1d(1, 512, kernel_size=(10,), stride=(5,))\n",
              "          (layer_norm): LayerNorm((512,), eps=1e-05, elementwise_affine=True)\n",
              "          (activation): GELUActivation()\n",
              "        )\n",
              "        (1-4): 4 x Wav2Vec2LayerNormConvLayer(\n",
              "          (conv): Conv1d(512, 512, kernel_size=(3,), stride=(2,))\n",
              "          (layer_norm): LayerNorm((512,), eps=1e-05, elementwise_affine=True)\n",
              "          (activation): GELUActivation()\n",
              "        )\n",
              "        (5-6): 2 x Wav2Vec2LayerNormConvLayer(\n",
              "          (conv): Conv1d(512, 512, kernel_size=(2,), stride=(2,))\n",
              "          (layer_norm): LayerNorm((512,), eps=1e-05, elementwise_affine=True)\n",
              "          (activation): GELUActivation()\n",
              "        )\n",
              "      )\n",
              "    )\n",
              "    (feature_projection): Wav2Vec2FeatureProjection(\n",
              "      (layer_norm): LayerNorm((512,), eps=1e-05, elementwise_affine=True)\n",
              "      (projection): Linear(in_features=512, out_features=1024, bias=True)\n",
              "      (dropout): Dropout(p=0.05, inplace=False)\n",
              "    )\n",
              "    (encoder): Wav2Vec2EncoderStableLayerNorm(\n",
              "      (pos_conv_embed): Wav2Vec2PositionalConvEmbedding(\n",
              "        (conv): ParametrizedConv1d(\n",
              "          1024, 1024, kernel_size=(128,), stride=(1,), padding=(64,), groups=16\n",
              "          (parametrizations): ModuleDict(\n",
              "            (weight): ParametrizationList(\n",
              "              (0): _WeightNorm()\n",
              "            )\n",
              "          )\n",
              "        )\n",
              "        (padding): Wav2Vec2SamePadLayer()\n",
              "        (activation): GELUActivation()\n",
              "      )\n",
              "      (layer_norm): LayerNorm((1024,), eps=1e-05, elementwise_affine=True)\n",
              "      (dropout): Dropout(p=0.05, inplace=False)\n",
              "      (layers): ModuleList(\n",
              "        (0-23): 24 x Wav2Vec2EncoderLayerStableLayerNorm(\n",
              "          (attention): Wav2Vec2Attention(\n",
              "            (k_proj): Linear(in_features=1024, out_features=1024, bias=True)\n",
              "            (v_proj): Linear(in_features=1024, out_features=1024, bias=True)\n",
              "            (q_proj): Linear(in_features=1024, out_features=1024, bias=True)\n",
              "            (out_proj): Linear(in_features=1024, out_features=1024, bias=True)\n",
              "          )\n",
              "          (dropout): Dropout(p=0.05, inplace=False)\n",
              "          (layer_norm): LayerNorm((1024,), eps=1e-05, elementwise_affine=True)\n",
              "          (feed_forward): Wav2Vec2FeedForward(\n",
              "            (intermediate_dropout): Dropout(p=0.05, inplace=False)\n",
              "            (intermediate_dense): Linear(in_features=1024, out_features=4096, bias=True)\n",
              "            (intermediate_act_fn): GELUActivation()\n",
              "            (output_dense): Linear(in_features=4096, out_features=1024, bias=True)\n",
              "            (output_dropout): Dropout(p=0.05, inplace=False)\n",
              "          )\n",
              "          (final_layer_norm): LayerNorm((1024,), eps=1e-05, elementwise_affine=True)\n",
              "        )\n",
              "      )\n",
              "    )\n",
              "  )\n",
              "  (dropout): Dropout(p=0.0, inplace=False)\n",
              "  (lm_head): Linear(in_features=1024, out_features=38, bias=True)\n",
              ")"
            ]
          },
          "metadata": {},
          "execution_count": 56
        }
      ]
    },
    {
      "cell_type": "code",
      "source": [
        "from transformers import Wav2Vec2ForCTC\n",
        "\n",
        "# Create an instance of the Wav2Vec2ForCTC class\n",
        "model = Wav2Vec2ForCTC.from_pretrained(wav2vec2_model_name)\n",
        "\n",
        "# Call the train() method on the model instance\n",
        "model.train()"
      ],
      "metadata": {
        "colab": {
          "base_uri": "https://localhost:8080/"
        },
        "id": "AbetHcCs_3jv",
        "outputId": "f54b5257-b82c-4362-939c-23addb81fcdc"
      },
      "execution_count": 75,
      "outputs": [
        {
          "output_type": "execute_result",
          "data": {
            "text/plain": [
              "Wav2Vec2ForCTC(\n",
              "  (wav2vec2): Wav2Vec2Model(\n",
              "    (feature_extractor): Wav2Vec2FeatureEncoder(\n",
              "      (conv_layers): ModuleList(\n",
              "        (0): Wav2Vec2LayerNormConvLayer(\n",
              "          (conv): Conv1d(1, 512, kernel_size=(10,), stride=(5,))\n",
              "          (layer_norm): LayerNorm((512,), eps=1e-05, elementwise_affine=True)\n",
              "          (activation): GELUActivation()\n",
              "        )\n",
              "        (1-4): 4 x Wav2Vec2LayerNormConvLayer(\n",
              "          (conv): Conv1d(512, 512, kernel_size=(3,), stride=(2,))\n",
              "          (layer_norm): LayerNorm((512,), eps=1e-05, elementwise_affine=True)\n",
              "          (activation): GELUActivation()\n",
              "        )\n",
              "        (5-6): 2 x Wav2Vec2LayerNormConvLayer(\n",
              "          (conv): Conv1d(512, 512, kernel_size=(2,), stride=(2,))\n",
              "          (layer_norm): LayerNorm((512,), eps=1e-05, elementwise_affine=True)\n",
              "          (activation): GELUActivation()\n",
              "        )\n",
              "      )\n",
              "    )\n",
              "    (feature_projection): Wav2Vec2FeatureProjection(\n",
              "      (layer_norm): LayerNorm((512,), eps=1e-05, elementwise_affine=True)\n",
              "      (projection): Linear(in_features=512, out_features=1024, bias=True)\n",
              "      (dropout): Dropout(p=0.05, inplace=False)\n",
              "    )\n",
              "    (encoder): Wav2Vec2EncoderStableLayerNorm(\n",
              "      (pos_conv_embed): Wav2Vec2PositionalConvEmbedding(\n",
              "        (conv): ParametrizedConv1d(\n",
              "          1024, 1024, kernel_size=(128,), stride=(1,), padding=(64,), groups=16\n",
              "          (parametrizations): ModuleDict(\n",
              "            (weight): ParametrizationList(\n",
              "              (0): _WeightNorm()\n",
              "            )\n",
              "          )\n",
              "        )\n",
              "        (padding): Wav2Vec2SamePadLayer()\n",
              "        (activation): GELUActivation()\n",
              "      )\n",
              "      (layer_norm): LayerNorm((1024,), eps=1e-05, elementwise_affine=True)\n",
              "      (dropout): Dropout(p=0.05, inplace=False)\n",
              "      (layers): ModuleList(\n",
              "        (0-23): 24 x Wav2Vec2EncoderLayerStableLayerNorm(\n",
              "          (attention): Wav2Vec2Attention(\n",
              "            (k_proj): Linear(in_features=1024, out_features=1024, bias=True)\n",
              "            (v_proj): Linear(in_features=1024, out_features=1024, bias=True)\n",
              "            (q_proj): Linear(in_features=1024, out_features=1024, bias=True)\n",
              "            (out_proj): Linear(in_features=1024, out_features=1024, bias=True)\n",
              "          )\n",
              "          (dropout): Dropout(p=0.05, inplace=False)\n",
              "          (layer_norm): LayerNorm((1024,), eps=1e-05, elementwise_affine=True)\n",
              "          (feed_forward): Wav2Vec2FeedForward(\n",
              "            (intermediate_dropout): Dropout(p=0.05, inplace=False)\n",
              "            (intermediate_dense): Linear(in_features=1024, out_features=4096, bias=True)\n",
              "            (intermediate_act_fn): GELUActivation()\n",
              "            (output_dense): Linear(in_features=4096, out_features=1024, bias=True)\n",
              "            (output_dropout): Dropout(p=0.05, inplace=False)\n",
              "          )\n",
              "          (final_layer_norm): LayerNorm((1024,), eps=1e-05, elementwise_affine=True)\n",
              "        )\n",
              "      )\n",
              "    )\n",
              "  )\n",
              "  (dropout): Dropout(p=0.0, inplace=False)\n",
              "  (lm_head): Linear(in_features=1024, out_features=38, bias=True)\n",
              ")"
            ]
          },
          "metadata": {},
          "execution_count": 75
        }
      ]
    },
    {
      "cell_type": "code",
      "metadata": {
        "id": "GdEIJtkzEzSN"
      },
      "source": [
        "# audio_url = \"http://www.fit.vutbr.cz/~motlicek/sympatex/f2bjrop1.0.wav\"\n",
        "# audio_url = \"http://www.fit.vutbr.cz/~motlicek/sympatex/f2bjrop1.1.wav\"\n",
        "# audio_url = \"http://www.fit.vutbr.cz/~motlicek/sympatex/f2btrop6.0.wav\"\n",
        "# audio_url = \"https://github.com/x4nth055/pythoncode-tutorials/raw/master/machine-learning/speech-recognition/16-122828-0002.wav\"\n",
        "audio_url = \"https://github.com/x4nth055/pythoncode-tutorials/raw/master/machine-learning/speech-recognition/30-4447-0004.wav\"\n",
        "# audio_url = \"https://www.voiptroubleshooter.com/open_speech/american/OSR_us_000_0060_8k.wav\"\n",
        "# audio_url = \"https://github.com/x4nth055/pythoncode-tutorials/raw/master/machine-learning/speech-recognition/7601-291468-0006.wav\"\n",
        "# audio_url = \"http://www0.cs.ucl.ac.uk/teaching/GZ05/samples/lathe.wav\""
      ],
      "execution_count": 4,
      "outputs": []
    },
    {
      "source": [
        "!pip install torchaudio"
      ],
      "cell_type": "code",
      "metadata": {
        "colab": {
          "base_uri": "https://localhost:8080/"
        },
        "id": "fRxr2hexYWpe",
        "outputId": "94201783-9dee-4bc6-c903-2cb61ecf97e6"
      },
      "execution_count": null,
      "outputs": [
        {
          "output_type": "stream",
          "name": "stdout",
          "text": [
            "Requirement already satisfied: torchaudio in /usr/local/lib/python3.10/dist-packages (2.1.0+cu121)\n",
            "Requirement already satisfied: torch==2.1.0 in /usr/local/lib/python3.10/dist-packages (from torchaudio) (2.1.0+cu121)\n",
            "Requirement already satisfied: filelock in /usr/local/lib/python3.10/dist-packages (from torch==2.1.0->torchaudio) (3.13.1)\n",
            "Requirement already satisfied: typing-extensions in /usr/local/lib/python3.10/dist-packages (from torch==2.1.0->torchaudio) (4.10.0)\n",
            "Requirement already satisfied: sympy in /usr/local/lib/python3.10/dist-packages (from torch==2.1.0->torchaudio) (1.12)\n",
            "Requirement already satisfied: networkx in /usr/local/lib/python3.10/dist-packages (from torch==2.1.0->torchaudio) (3.2.1)\n",
            "Requirement already satisfied: jinja2 in /usr/local/lib/python3.10/dist-packages (from torch==2.1.0->torchaudio) (3.1.3)\n",
            "Requirement already satisfied: fsspec in /usr/local/lib/python3.10/dist-packages (from torch==2.1.0->torchaudio) (2023.6.0)\n",
            "Requirement already satisfied: triton==2.1.0 in /usr/local/lib/python3.10/dist-packages (from torch==2.1.0->torchaudio) (2.1.0)\n",
            "Requirement already satisfied: MarkupSafe>=2.0 in /usr/local/lib/python3.10/dist-packages (from jinja2->torch==2.1.0->torchaudio) (2.1.5)\n",
            "Requirement already satisfied: mpmath>=0.19 in /usr/local/lib/python3.10/dist-packages (from sympy->torch==2.1.0->torchaudio) (1.3.0)\n",
            "\u001b[33mWARNING: Running pip as the 'root' user can result in broken permissions and conflicting behaviour with the system package manager. It is recommended to use a virtual environment instead: https://pip.pypa.io/warnings/venv\u001b[0m\u001b[33m\n",
            "\u001b[0m"
          ]
        }
      ]
    },
    {
      "source": [
        "import torchaudio"
      ],
      "cell_type": "code",
      "metadata": {
        "id": "GwdTJnJNYdMa"
      },
      "execution_count": 6,
      "outputs": []
    },
    {
      "cell_type": "code",
      "metadata": {
        "colab": {
          "base_uri": "https://localhost:8080/"
        },
        "id": "pFm8rwjMt7TC",
        "outputId": "d5ea005f-bd26-4ae8-c62c-ad2d83c85b4f"
      },
      "source": [
        "# load our wav file\n",
        "speech, sr = torchaudio.load(audio_url)\n",
        "speech = speech.squeeze()\n",
        "# or using librosa\n",
        "# speech, sr = librosa.load(audio_file, sr=16000)\n",
        "sr, speech.shape"
      ],
      "execution_count": 7,
      "outputs": [
        {
          "output_type": "execute_result",
          "data": {
            "text/plain": [
              "(16000, torch.Size([274000]))"
            ]
          },
          "metadata": {},
          "execution_count": 7
        }
      ]
    },
    {
      "cell_type": "code",
      "source": [
        "# resample from whatever the audio sampling rate to 16000\n",
        "resampler = torchaudio.transforms.Resample(sr, 16000)\n",
        "speech = resampler(speech)\n",
        "speech.shape"
      ],
      "metadata": {
        "colab": {
          "base_uri": "https://localhost:8080/"
        },
        "id": "563Nf3xsMnJE",
        "outputId": "8d988a98-b9d4-44ca-f4f2-ffd757b94e64"
      },
      "execution_count": 8,
      "outputs": [
        {
          "output_type": "execute_result",
          "data": {
            "text/plain": [
              "torch.Size([274000])"
            ]
          },
          "metadata": {},
          "execution_count": 8
        }
      ]
    },
    {
      "cell_type": "code",
      "metadata": {
        "colab": {
          "base_uri": "https://localhost:8080/"
        },
        "id": "qtTD3gIyeNwK",
        "outputId": "7bc33dc0-681c-41d2-8781-7d3f18fa82c0"
      },
      "source": [
        "# tokenize our wav\n",
        "input_values = wav2vec2_processor(speech, return_tensors=\"pt\", sampling_rate=16000)[\"input_values\"].to(device)\n",
        "input_values.shape"
      ],
      "execution_count": 9,
      "outputs": [
        {
          "output_type": "execute_result",
          "data": {
            "text/plain": [
              "torch.Size([1, 274000])"
            ]
          },
          "metadata": {},
          "execution_count": 9
        }
      ]
    },
    {
      "cell_type": "code",
      "metadata": {
        "colab": {
          "base_uri": "https://localhost:8080/"
        },
        "id": "_O7cCe7veTgB",
        "outputId": "948e47b6-aa58-4249-bcdd-e7d761c4be7c"
      },
      "source": [
        "# perform inference\n",
        "logits = wav2vec2_model(input_values)[\"logits\"]\n",
        "logits.shape"
      ],
      "execution_count": 10,
      "outputs": [
        {
          "output_type": "execute_result",
          "data": {
            "text/plain": [
              "torch.Size([1, 856, 38])"
            ]
          },
          "metadata": {},
          "execution_count": 10
        }
      ]
    },
    {
      "cell_type": "code",
      "metadata": {
        "colab": {
          "base_uri": "https://localhost:8080/"
        },
        "id": "Gx6XWoTRejR0",
        "outputId": "5745d8cf-1f9a-46f8-d676-4f81a5e6c1ef"
      },
      "source": [
        "# use argmax to get the predicted IDs\n",
        "predicted_ids = torch.argmax(logits, dim=-1)\n",
        "predicted_ids.shape"
      ],
      "execution_count": 11,
      "outputs": [
        {
          "output_type": "execute_result",
          "data": {
            "text/plain": [
              "torch.Size([1, 856])"
            ]
          },
          "metadata": {},
          "execution_count": 11
        }
      ]
    },
    {
      "cell_type": "code",
      "metadata": {
        "colab": {
          "base_uri": "https://localhost:8080/",
          "height": 70
        },
        "id": "tyWIw6rJeyN-",
        "outputId": "0888ac6a-639a-4063-9c23-541919273332"
      },
      "source": [
        "# decode the IDs to text\n",
        "transcription = wav2vec2_processor.decode(predicted_ids[0])\n",
        "transcription.lower()"
      ],
      "execution_count": 12,
      "outputs": [
        {
          "output_type": "execute_result",
          "data": {
            "text/plain": [
              "'and misses gordard three ladys olmost alwas at the service ob en invitation vom hartfield enn he wor fetcht und carryd hom so often dat mister woodhous so det no hardship für either james or the horses hätet tekenplase onlie wanse jihr iwod ef bin egreevanz'"
            ],
            "application/vnd.google.colaboratory.intrinsic+json": {
              "type": "string"
            }
          },
          "metadata": {},
          "execution_count": 12
        }
      ]
    },
    {
      "cell_type": "code",
      "source": [
        "def load_audio(audio_path):\n",
        "  \"\"\"Load the audio file & convert to 16,000 sampling rate\"\"\"\n",
        "  # load our wav file\n",
        "  speech, sr = torchaudio.load(audio_path)\n",
        "  resampler = torchaudio.transforms.Resample(sr, 16000)\n",
        "  speech = resampler(speech)\n",
        "  return speech.squeeze()"
      ],
      "metadata": {
        "id": "TJpRO65uqP30"
      },
      "execution_count": 13,
      "outputs": []
    },
    {
      "cell_type": "code",
      "source": [
        "def get_transcription_wav2vec2(audio_path, model, processor):\n",
        "  speech = load_audio(audio_path)\n",
        "  input_features = processor(speech, return_tensors=\"pt\", sampling_rate=16000)[\"input_values\"].to(device)\n",
        "  # perform inference\n",
        "  logits = model(input_features)[\"logits\"]\n",
        "  # use argmax to get the predicted IDs\n",
        "  predicted_ids = torch.argmax(logits, dim=-1)\n",
        "  transcription = processor.batch_decode(predicted_ids)[0]\n",
        "  return transcription.lower()"
      ],
      "metadata": {
        "id": "XDYMY4ZZLl9Q"
      },
      "execution_count": 14,
      "outputs": []
    },
    {
      "cell_type": "code",
      "source": [
        "get_transcription_wav2vec2(\"https://raw.githubusercontent.com/Daedalus3/freeswitch-german-soundfiles/master/16000/conf-enter_conf_number.wav\",\n",
        "                           wav2vec2_model,\n",
        "                           wav2vec2_processor)"
      ],
      "metadata": {
        "id": "fmGIM7RLGFsd",
        "outputId": "d286faad-32bd-400a-ddf1-711682c4ff54",
        "colab": {
          "base_uri": "https://localhost:8080/",
          "height": 35
        }
      },
      "execution_count": 15,
      "outputs": [
        {
          "output_type": "execute_result",
          "data": {
            "text/plain": [
              "'bitte geben sie die konferenznummer ein und bestätigen sie diese mit der rautetaste'"
            ],
            "application/vnd.google.colaboratory.intrinsic+json": {
              "type": "string"
            }
          },
          "metadata": {},
          "execution_count": 15
        }
      ]
    },
    {
      "cell_type": "markdown",
      "metadata": {
        "id": "6cZZ7MeTUv0S"
      },
      "source": [
        "# Transcribe your Voice"
      ]
    },
    {
      "cell_type": "code",
      "metadata": {
        "colab": {
          "base_uri": "https://localhost:8080/"
        },
        "id": "3FdjIsOlKBRJ",
        "outputId": "d96165ce-4ba1-4bf3-a549-d8c680dd0b16"
      },
      "source": [
        "!git clone -q --depth 1 https://github.com/snakers4/silero-models\n",
        "\n",
        "%cd silero-models"
      ],
      "execution_count": 16,
      "outputs": [
        {
          "output_type": "stream",
          "name": "stdout",
          "text": [
            "/content/silero-models\n"
          ]
        }
      ]
    },
    {
      "source": [
        "!pip install pydub"
      ],
      "cell_type": "code",
      "metadata": {
        "id": "bdzcp9VhIXlC",
        "outputId": "921e9bf6-8940-4445-be46-66be64878a0c",
        "colab": {
          "base_uri": "https://localhost:8080/"
        }
      },
      "execution_count": 17,
      "outputs": [
        {
          "output_type": "stream",
          "name": "stdout",
          "text": [
            "Collecting pydub\n",
            "  Downloading pydub-0.25.1-py2.py3-none-any.whl (32 kB)\n",
            "Installing collected packages: pydub\n",
            "Successfully installed pydub-0.25.1\n"
          ]
        }
      ]
    },
    {
      "source": [
        "from IPython.display import Audio, display, clear_output\n",
        "from colab_utils import record_audio\n",
        "import ipywidgets as widgets\n",
        "from scipy.io import wavfile\n",
        "import numpy as np\n",
        "\n",
        "\n",
        "record_seconds =   5#@param {type:\"number\", min:1, max:10, step:1}\n",
        "sample_rate = 16000\n",
        "\n",
        "def _record_audio(b):\n",
        "  clear_output()\n",
        "  audio = record_audio(record_seconds)\n",
        "  display(Audio(audio, rate=sample_rate, autoplay=True))\n",
        "  wavfile.write('recorded.wav', sample_rate, (32767*audio).numpy().astype(np.int16))\n",
        "\n",
        "button = widgets.Button(description=\"Record Speech\")\n",
        "button.on_click(_record_audio)\n",
        "display(button)"
      ],
      "cell_type": "code",
      "metadata": {
        "id": "oR0ekjQ9Iacf",
        "outputId": "b1b3c6db-665c-4c53-e481-54539234e9a9",
        "colab": {
          "base_uri": "https://localhost:8080/",
          "height": 110,
          "referenced_widgets": [
            "a28b306a1b0e4980a3ec060b70df4510",
            "28238bf2da104164a8c15ffbddeb201e",
            "6ec83fffac2a4129a80a91bc442f68b9"
          ]
        }
      },
      "execution_count": 21,
      "outputs": [
        {
          "output_type": "stream",
          "name": "stdout",
          "text": [
            "Starting recording for 5 seconds...\n"
          ]
        },
        {
          "output_type": "display_data",
          "data": {
            "text/plain": [
              "<IPython.core.display.Javascript object>"
            ],
            "application/javascript": [
              "\n",
              "      const sleep  = time => new Promise(resolve => setTimeout(resolve, time))\n",
              "      const b2text = blob => new Promise(resolve => {\n",
              "        const reader = new FileReader()\n",
              "        reader.onloadend = e => resolve(e.srcElement.result)\n",
              "        reader.readAsDataURL(blob)\n",
              "      })\n",
              "      var record = time => new Promise(async resolve => {\n",
              "        stream = await navigator.mediaDevices.getUserMedia({ audio: true })\n",
              "        recorder = new MediaRecorder(stream)\n",
              "        chunks = []\n",
              "        recorder.ondataavailable = e => chunks.push(e.data)\n",
              "        recorder.start()\n",
              "        await sleep(time)\n",
              "        recorder.onstop = async ()=>{\n",
              "          blob = new Blob(chunks)\n",
              "          text = await b2text(blob)\n",
              "          resolve(text)\n",
              "        }\n",
              "        recorder.stop()\n",
              "      })\n",
              "      "
            ]
          },
          "metadata": {}
        },
        {
          "output_type": "stream",
          "name": "stdout",
          "text": [
            "Finished recording!\n"
          ]
        },
        {
          "output_type": "display_data",
          "data": {
            "text/plain": [
              "<IPython.lib.display.Audio object>"
            ],
            "text/html": [
              "\n",
              "                <audio  controls=\"controls\" autoplay=\"autoplay\">\n",
              "                    <source src=\"data:audio/wav;base64,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\" type=\"audio/wav\" />\n",
              "                    Your browser does not support the audio element.\n",
              "                </audio>\n",
              "              "
            ]
          },
          "metadata": {}
        }
      ]
    },
    {
      "cell_type": "code",
      "source": [
        "\n",
        "print(\"Wav2vec2:\", get_transcription_wav2vec2(\"recorded.wav\", wav2vec2_model, wav2vec2_processor))"
      ],
      "metadata": {
        "colab": {
          "base_uri": "https://localhost:8080/"
        },
        "id": "K0Ka85iA2gUC",
        "outputId": "7f49bc03-0756-472b-b5bc-67d5d685cefc"
      },
      "execution_count": 22,
      "outputs": [
        {
          "output_type": "stream",
          "name": "stdout",
          "text": [
            "Wav2vec2: ich habe viel gelernt\n"
          ]
        }
      ]
    },
    {
      "cell_type": "code",
      "source": [
        "#  save model"
      ],
      "metadata": {
        "id": "bjoNG39vqMeD"
      },
      "execution_count": 23,
      "outputs": []
    },
    {
      "cell_type": "code",
      "source": [
        "wav2vec2_model.save_pretrained(wav2vec2_model_name)  # The file needs to end with the .keras extension"
      ],
      "metadata": {
        "id": "cnz64VOXsU2j"
      },
      "execution_count": 74,
      "outputs": []
    },
    {
      "cell_type": "markdown",
      "source": [],
      "metadata": {
        "id": "3FijXSqYqclw"
      }
    },
    {
      "cell_type": "markdown",
      "source": [],
      "metadata": {
        "id": "ILA57Z3HqI3V"
      }
    }
  ]
}